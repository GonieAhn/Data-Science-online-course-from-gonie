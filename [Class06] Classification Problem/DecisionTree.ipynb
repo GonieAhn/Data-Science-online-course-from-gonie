{
 "cells": [
  {
   "cell_type": "markdown",
   "id": "1127c326-3145-4561-9502-f7640d13c244",
   "metadata": {},
   "source": [
    "# Clssification Problem Code Tutorial\n",
    "\n",
    "<b><u>[목적]</u></b>\n",
    "- 복잡한 Regression Problem을 단순한 Classification으로 변환하여 접근함\n",
    "- DecisionTree를 활용하여 Rule을 Extraction 함\n",
    "- DecisionTree는 단순하지만 강력한 설명력을 가짐\n",
    "\n",
    "<b><u>[Process]</u></b>\n",
    "- Data Path = 'https://github.com/GonieAhn/Data-Science-online-course-from-gonie/tree/main/Data%20Store'\n",
    "- Define X's & Y\n",
    "- Transform Y (Numeric --> Category)\n",
    "    - Why? --> Deep Thinking Yourself\n",
    "- Split Train & Valid data set\n",
    "- Modeling\n",
    "- 해석"
   ]
  },
  {
   "cell_type": "code",
   "execution_count": 1,
   "id": "bdb465db-35a3-4802-b831-55ac07d0169c",
   "metadata": {},
   "outputs": [],
   "source": [
    "import os\n",
    "import gc\n",
    "import pickle\n",
    "import pandas as pd\n",
    "import matplotlib.pyplot as plt\n",
    "import numpy as np\n",
    "\n",
    "import warnings\n",
    "warnings.filterwarnings(\"ignore\")\n",
    "\n",
    "from sklearn.model_selection import train_test_split\n",
    "from sklearn.metrics import confusion_matrix\n",
    "from sklearn.tree import DecisionTreeClassifier, export_graphviz\n",
    "from collections import Counter"
   ]
  },
  {
   "cell_type": "code",
   "execution_count": 2,
   "id": "b19eb809-77c9-408b-a50b-1852a21bedb8",
   "metadata": {},
   "outputs": [
    {
     "name": "stdout",
     "output_type": "stream",
     "text": [
      ">>>> Data Shape : (3500, 357)\n",
      "Wall time: 250 ms\n"
     ]
    }
   ],
   "source": [
    "%%time\n",
    "# Data Load \n",
    "data = pd.read_csv(\"../Data Store/TOY_DATA.csv\")\n",
    "print(\">>>> Data Shape : {}\".format(data.shape))"
   ]
  },
  {
   "cell_type": "markdown",
   "id": "7f3ed5e1-d6d4-460f-aaa5-eb6fb5a2cdb5",
   "metadata": {},
   "source": [
    "<b><u>[Data Selection]</u></b>\n",
    "- Data Cleaning 진행\n",
    "- Regression Problem ==> Classification Problem 상위 30% [Class 1]과 하위 30% [Class 0]\n",
    "    - 이렇게 하는 이유는 결국 우리는 상위 n%와 하위 n%의 차이를 알고 싶은 것\n",
    "    - 복잡한 Regression 문제보다 1 또는 0을 마추는 Classification Problem으로 전환해보자\n",
    "    - 그리고 상위 n%가 나오는 Rule을 도출해보자 (해석력을 얻기 위함)\n",
    "    - 이렇게 할 경우 데이터 손실이 있기 때문에 데이터가 많은 경우 써먹어보자"
   ]
  },
  {
   "cell_type": "code",
   "execution_count": 3,
   "id": "95d2e9f1-eccf-439d-9344-a60293552223",
   "metadata": {},
   "outputs": [
    {
     "name": "stdout",
     "output_type": "stream",
     "text": [
      "Data Shape : (3500, 4)\n"
     ]
    }
   ],
   "source": [
    " In [3]: \n",
    " # Feature Selection\n",
    "selc_col = ['Y', 'X1', 'X2', 'X3']\n",
    "data = data[selc_col]\n",
    "# Missing value dropping\n",
    "data.dropna(inplace=True)\n",
    "data.reset_index(inplace=True, drop=True)\n",
    "print(\"Data Shape : {}\".format(data.shape))"
   ]
  },
  {
   "cell_type": "code",
   "execution_count": 4,
   "id": "64d72a1b-00f5-4a67-8fbf-1a299ecdf34a",
   "metadata": {},
   "outputs": [
    {
     "name": "stdout",
     "output_type": "stream",
     "text": [
      ">>>> 70 Percentile : 0.821760391\n",
      ">>>> 30 Percentile : 0.7269621028\n"
     ]
    }
   ],
   "source": [
    "# 상위 30% (Class 1)과 하위 30% (Class 0)\n",
    "per_70 = np.percentile(data['Y'], 70)\n",
    "per_30 = np.percentile(data['Y'], 30)\n",
    "print(\">>>> 70 Percentile : {}\".format(per_70))\n",
    "print(\">>>> 30 Percentile : {}\".format(per_30))"
   ]
  },
  {
   "cell_type": "code",
   "execution_count": 5,
   "id": "71dde08c-41e2-49fc-bbb2-ba18937cf255",
   "metadata": {},
   "outputs": [
    {
     "name": "stdout",
     "output_type": "stream",
     "text": [
      "Data shape : (2101, 4)\n"
     ]
    }
   ],
   "source": [
    "# Data Selection\n",
    "data = data[(data['Y'] >= per_70) | (data['Y'] <= per_30)]\n",
    "data.reset_index(inplace=True, drop=True)\n",
    "print('Data shape : {}'.format(data.shape))"
   ]
  },
  {
   "cell_type": "code",
   "execution_count": 6,
   "id": "d0c2e7db-52c4-4d2c-b00d-1743ddec30bb",
   "metadata": {},
   "outputs": [
    {
     "name": "stdout",
     "output_type": "stream",
     "text": [
      "Unique Label : {0, 1}\n"
     ]
    }
   ],
   "source": [
    "# Assign Class\n",
    "data['Label'] = 3\n",
    "data['Label'].iloc[np.where(data['Y'] >= per_70)[0]] = 1\n",
    "data['Label'].iloc[np.where(data['Y'] <= per_30)[0]] = 0\n",
    "print(\"Unique Label : {}\".format(set(data['Label']))) "
   ]
  },
  {
   "cell_type": "code",
   "execution_count": 7,
   "id": "dd79a5cd-f9ae-4824-98af-533476671313",
   "metadata": {},
   "outputs": [
    {
     "data": {
      "text/plain": [
       "Counter({1: 1051, 0: 1050})"
      ]
     },
     "execution_count": 7,
     "metadata": {},
     "output_type": "execute_result"
    }
   ],
   "source": [
    "Counter(data['Label'])"
   ]
  },
  {
   "cell_type": "code",
   "execution_count": 8,
   "id": "e090b109-51a5-4cda-90bf-ef9267e649f9",
   "metadata": {},
   "outputs": [
    {
     "name": "stdout",
     "output_type": "stream",
     "text": [
      ">>>> # of Train data : 1470\n",
      ">>>> # of valid data : 631\n"
     ]
    }
   ],
   "source": [
    "Y = data['Label']\n",
    "X = data.drop(columns=['Y', 'Label'])\n",
    "idx = list(range(X.shape[0]))\n",
    "train_idx, valid_idx = train_test_split(idx, test_size=0.3, random_state=2021)\n",
    "print(\">>>> # of Train data : {}\".format(len(train_idx)))\n",
    "print(\">>>> # of valid data : {}\".format(len(valid_idx))) "
   ]
  },
  {
   "cell_type": "markdown",
   "id": "e3a98bcb-4da4-4e55-b052-18483160a4eb",
   "metadata": {},
   "source": [
    "<b><u>[Decision Tree를 활용한 Rule Extraction]</u></b>\n",
    "- Max_Depth는 5 초과를 넘지 않아야함, 5를 초과하게 되면 Rule Extraction Plotting의 가독성이 매우 떨어짐\n",
    "    - 정확도와 설명력은 Trade-off가 존재하기 때문에 자기만의 기준으로 적절한 선을 선택하면 됨\n",
    "- .dot 파일을 .png 파일로 변경\n",
    "    - <b>\"dot file.dot -Tpng -o image.png\"</b>를 Terminal command 창에서 실행해 주어야함\n",
    "- 이슈사항\n",
    "    - Rule Extraction 할때 GINI INDEX 뿐만 아니라 Sample 개수도 중요한 척도가 됨\n",
    "    - GINI INDEX가 아주 낮지만(불순도가 낮음, 좋음) Sample의 개수가 너무 적으면 의미가 없음(Overfitting이라고 생각됨)"
   ]
  },
  {
   "cell_type": "code",
   "execution_count": 9,
   "id": "01895b28-ab5a-456b-bcaf-13b4edfd1e77",
   "metadata": {},
   "outputs": [
    {
     "name": "stdout",
     "output_type": "stream",
     "text": [
      ">>>> Depth 2\n",
      "Train Confusion Matrix\n",
      "[[721  19]\n",
      " [ 40 690]]\n",
      "Train Acc : 0.9598639455782313\n",
      "Train Confusion Matrix\n",
      "[[291  19]\n",
      " [ 20 301]]\n",
      "TesT Acc : 0.9381933438985737\n",
      "-----------------------------------------------------------------------\n",
      "-----------------------------------------------------------------------\n",
      ">>>> Depth 3\n",
      "Train Confusion Matrix\n",
      "[[719  21]\n",
      " [ 16 714]]\n",
      "Train Acc : 0.9748299319727891\n",
      "Train Confusion Matrix\n",
      "[[290  20]\n",
      " [ 13 308]]\n",
      "TesT Acc : 0.9477020602218701\n",
      "-----------------------------------------------------------------------\n",
      "-----------------------------------------------------------------------\n",
      ">>>> Depth 4\n",
      "Train Confusion Matrix\n",
      "[[730  10]\n",
      " [  3 727]]\n",
      "Train Acc : 0.991156462585034\n",
      "Train Confusion Matrix\n",
      "[[297  13]\n",
      " [  3 318]]\n",
      "TesT Acc : 0.9746434231378764\n",
      "-----------------------------------------------------------------------\n",
      "-----------------------------------------------------------------------\n",
      ">>>> Depth 5\n",
      "Train Confusion Matrix\n",
      "[[738   2]\n",
      " [  1 729]]\n",
      "Train Acc : 0.9979591836734694\n",
      "Train Confusion Matrix\n",
      "[[305   5]\n",
      " [  3 318]]\n",
      "TesT Acc : 0.9873217115689382\n",
      "-----------------------------------------------------------------------\n",
      "-----------------------------------------------------------------------\n",
      ">>>> Depth 6\n",
      "Train Confusion Matrix\n",
      "[[740   0]\n",
      " [  1 729]]\n",
      "Train Acc : 0.9993197278911564\n",
      "Train Confusion Matrix\n",
      "[[307   3]\n",
      " [  3 318]]\n",
      "TesT Acc : 0.9904912836767037\n",
      "-----------------------------------------------------------------------\n",
      "-----------------------------------------------------------------------\n",
      ">>>> Depth 7\n",
      "Train Confusion Matrix\n",
      "[[740   0]\n",
      " [  0 730]]\n",
      "Train Acc : 1.0\n",
      "Train Confusion Matrix\n",
      "[[306   4]\n",
      " [  2 319]]\n",
      "TesT Acc : 0.9904912836767037\n",
      "-----------------------------------------------------------------------\n",
      "-----------------------------------------------------------------------\n",
      ">>>> Depth 8\n",
      "Train Confusion Matrix\n",
      "[[740   0]\n",
      " [  0 730]]\n",
      "Train Acc : 1.0\n",
      "Train Confusion Matrix\n",
      "[[306   4]\n",
      " [  3 318]]\n",
      "TesT Acc : 0.9889064976228209\n",
      "-----------------------------------------------------------------------\n",
      "-----------------------------------------------------------------------\n",
      ">>>> Depth 9\n",
      "Train Confusion Matrix\n",
      "[[740   0]\n",
      " [  0 730]]\n",
      "Train Acc : 1.0\n",
      "Train Confusion Matrix\n",
      "[[305   5]\n",
      " [  4 317]]\n",
      "TesT Acc : 0.9857369255150554\n",
      "-----------------------------------------------------------------------\n",
      "-----------------------------------------------------------------------\n",
      ">>>> Depth 10\n",
      "Train Confusion Matrix\n",
      "[[740   0]\n",
      " [  0 730]]\n",
      "Train Acc : 1.0\n",
      "Train Confusion Matrix\n",
      "[[307   3]\n",
      " [  3 318]]\n",
      "TesT Acc : 0.9904912836767037\n",
      "-----------------------------------------------------------------------\n",
      "-----------------------------------------------------------------------\n"
     ]
    }
   ],
   "source": [
    "# Parameter Searching ==> Depth 2 ~ 10\n",
    "for i in range(2,11,1):\n",
    "    print(\">>>> Depth {}\".format(i))\n",
    "\n",
    "    model = DecisionTreeClassifier(max_depth=i, criterion='gini')\n",
    "    model.fit(X.iloc[train_idx], Y.iloc[train_idx])\n",
    "\n",
    "    # Train Acc\n",
    "    y_pre_train = model.predict(X.iloc[train_idx])\n",
    "    cm_train = confusion_matrix(Y.iloc[train_idx], y_pre_train)\n",
    "    print(\"Train Confusion Matrix\")\n",
    "    print(cm_train)\n",
    "    print(\"Train Acc : {}\".format((cm_train[0,0] + cm_train[1,1])/cm_train.sum()))\n",
    "\n",
    "    # Test Acc\n",
    "    y_pre_test = model.predict(X.iloc[valid_idx])\n",
    "    cm_test = confusion_matrix(Y.iloc[valid_idx], y_pre_test)\n",
    "    print(\"Train Confusion Matrix\")\n",
    "    print(cm_test)\n",
    "    print(\"TesT Acc : {}\".format((cm_test[0,0] + cm_test[1,1])/cm_test.sum()))\n",
    "    print(\"-----------------------------------------------------------------------\")\n",
    "    print(\"-----------------------------------------------------------------------\")\n",
    " "
   ]
  },
  {
   "cell_type": "code",
   "execution_count": 12,
   "id": "f38d2299-737b-4974-88dc-19ea4c6c85c5",
   "metadata": {},
   "outputs": [
    {
     "data": {
      "text/plain": [
       "DecisionTreeClassifier(max_depth=5)"
      ]
     },
     "execution_count": 12,
     "metadata": {},
     "output_type": "execute_result"
    }
   ],
   "source": [
    "# Depth가 깊어질 수록 정확도는 높게 나오지만 해석력에 대한 가독성을 위해 Depth 5를 선택함\n",
    "model = DecisionTreeClassifier(max_depth=5, criterion='gini')\n",
    "model.fit(X.iloc[train_idx], Y.iloc[train_idx])"
   ]
  },
  {
   "cell_type": "code",
   "execution_count": 13,
   "id": "afd60ac3-1920-431b-9e0b-26ed9b5f6e47",
   "metadata": {},
   "outputs": [],
   "source": [
    "# Rule Extraction --> Dot file 생성\n",
    "export_graphviz(model, out_file=\"./DT_RuleExtraction.dot\", class_names = [\"Low\", \"High\"], \n",
    "                feature_names = X.columns, impurity=True, filled=True)"
   ]
  }
 ],
 "metadata": {
  "kernelspec": {
   "display_name": "Python 3 (ipykernel)",
   "language": "python",
   "name": "python3"
  },
  "language_info": {
   "codemirror_mode": {
    "name": "ipython",
    "version": 3
   },
   "file_extension": ".py",
   "mimetype": "text/x-python",
   "name": "python",
   "nbconvert_exporter": "python",
   "pygments_lexer": "ipython3",
   "version": "3.7.11"
  }
 },
 "nbformat": 4,
 "nbformat_minor": 5
}
