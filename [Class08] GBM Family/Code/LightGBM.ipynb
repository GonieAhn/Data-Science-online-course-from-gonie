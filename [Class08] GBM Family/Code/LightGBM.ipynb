{
 "cells": [
  {
   "cell_type": "markdown",
   "id": "539d7d5d-7cd8-4cec-a2bf-be9a8eba2584",
   "metadata": {},
   "source": [
    "# LightGBM Code Tutorial\n",
    "\n",
    "<b><u>[목적]</u></b>\n",
    "- 이전 모델에서는 Missing Value 값들을 전부 삭제하고 진행함\n",
    "- LightGBM의 경우 Missing Value를 모델 자체 내에서 처리해주기 때문에 삭제하지 않음\n",
    "- 현재는 충분한 데이터가 있기 때문에 Missing Value를 전부 삭제해도 무관함\n",
    "- 빅데이터를 빠르게 수행함\n",
    "\n",
    "<b><u>[Process]</u></b>\n",
    "- Data Path = 'https://github.com/GonieAhn/Data-Science-online-course-from-gonie/tree/main/Data%20Store'\n",
    "- Define X's & Y\n",
    "- Transform Y (Numeric --> Category)\n",
    "- Split Train & Valid data set\n",
    "- Modeling\n",
    "- 해석\n",
    "\n",
    "<b><u>[주의]</u></b>\n",
    "- Tutorial Code가 있는 폴더에 \"LightGBM_model\"라는 폴더를 만들어줘야함 (모델 저장)\n",
    "- 생성한 폴더에 Hyperparameter를 Tuning 하면서 모델을 모두 저장함\n",
    "- 논문에서는 데이터 10,000개 이상일 때 사용하라고 했지만, 일단 돌려보자"
   ]
  },
  {
   "cell_type": "code",
   "execution_count": 1,
   "id": "a0f67c4c-255e-4000-abf0-b148f458e3bb",
   "metadata": {},
   "outputs": [],
   "source": [
    "import os\n",
    "import gc\n",
    "import re\n",
    "import pickle\n",
    "import joblib\n",
    "import pandas as pd\n",
    "import matplotlib.pyplot as plt\n",
    "import numpy as np\n",
    "import seaborn as sns\n",
    "\n",
    "import warnings\n",
    "warnings.filterwarnings(\"ignore\")\n",
    "\n",
    "from sklearn.model_selection import train_test_split\n",
    "from sklearn.metrics import confusion_matrix\n",
    "from lightgbm import LGBMClassifier, LGBMRegressor\n",
    "from collections import Counter"
   ]
  },
  {
   "cell_type": "code",
   "execution_count": 2,
   "id": "c879d831-98c4-4dfb-842c-14611414fcc8",
   "metadata": {},
   "outputs": [
    {
     "name": "stdout",
     "output_type": "stream",
     "text": [
      ">>>> Data Shape : (3500, 355)\n",
      "Wall time: 224 ms\n"
     ]
    }
   ],
   "source": [
    "%%time\n",
    "# Data Load \n",
    "data = pd.read_csv(\"../Data Store/TOY_DATA.csv\")\n",
    "data.drop(columns=['Unnamed: 0', 'Unnamed: 0.1'], inplace=True)\n",
    "print(\">>>> Data Shape : {}\".format(data.shape))"
   ]
  },
  {
   "cell_type": "markdown",
   "id": "d1dc9209-089f-452e-893b-9d24100a0cef",
   "metadata": {},
   "source": [
    "<b><u>[Data Condition Check]</u></b>\n",
    "- Data Condition\n",
    "    - 그 전 Tutorial에서는 Missing Value에 대한 Row를 모두 삭제함\n",
    "    - 이번에는 살려둠\n",
    "    - 변수는 Missing Percentage와 Level(Unique) 값에 따라 삭제함"
   ]
  },
  {
   "cell_type": "code",
   "execution_count": 3,
   "id": "d73ddf22-2dfc-4cb4-a7e9-f91797cdb96f",
   "metadata": {},
   "outputs": [],
   "source": [
    " # Feature Name Cleaning\n",
    "regex = re.compile(r\"\\[|\\]|<\", re.IGNORECASE)\n",
    "data.columns = [regex.sub(\"_\", col) if any(x in str(col) for x in set(('[', ']', '<'))) else col for col in data.columns.values]"
   ]
  },
  {
   "cell_type": "code",
   "execution_count": 4,
   "id": "46899124-6cdc-4a91-bdb6-b2c30d85246d",
   "metadata": {},
   "outputs": [
    {
     "name": "stdout",
     "output_type": "stream",
     "text": [
      ">>>> Data Shape : (3500, 345)\n"
     ]
    }
   ],
   "source": [
    "# Data Checking\n",
    "col = []\n",
    "missing = []\n",
    "level = [] \n",
    "for name in data.columns:\n",
    "    \n",
    "    # Missing\n",
    "    missper = data[name].isnull().sum() / data.shape[0]\n",
    "    missing.append(round(missper, 4))\n",
    "\n",
    "    # Leveling\n",
    "    lel = data[name].dropna()\n",
    "    level.append(len(list(set(lel))))\n",
    "\n",
    "    # Columns\n",
    "    col.append(name)\n",
    "\n",
    "summary = pd.concat([pd.DataFrame(col, columns=['name']), \n",
    "                     pd.DataFrame(missing, columns=['Missing Percentage']), \n",
    "                     pd.DataFrame(level, columns=['Level'])], axis=1)\n",
    "\n",
    "drop_col = summary['name'][(summary['Level'] <= 1) | (summary['Missing Percentage'] >= 0.8)]\n",
    "data.drop(columns=drop_col, inplace=True)\n",
    "print(\">>>> Data Shape : {}\".format(data.shape))"
   ]
  },
  {
   "cell_type": "code",
   "execution_count": 5,
   "id": "cad6af5e-ec42-4496-b106-0cb9b5e71328",
   "metadata": {},
   "outputs": [
    {
     "data": {
      "text/plain": [
       "57      X57\n",
       "59      X59\n",
       "108    X108\n",
       "114    X114\n",
       "132    X132\n",
       "140    X140\n",
       "151    X151\n",
       "344    X344\n",
       "353    X353\n",
       "354    X354\n",
       "Name: name, dtype: object"
      ]
     },
     "execution_count": 5,
     "metadata": {},
     "output_type": "execute_result"
    }
   ],
   "source": [
    "drop_col"
   ]
  },
  {
   "cell_type": "markdown",
   "id": "d3b6c721-3082-42ab-b4ea-a4f1db37ac03",
   "metadata": {},
   "source": [
    "<b><u>[Change Regression P to Classification P]</u></b>\n",
    "- Data Cleaning 진행\n",
    "- Regression Problem ==> Classification Problem 상위 30% [Class 1]과 하위 30% [Class 0]\n",
    "    - 이렇게 하는 이유는 결국 우리는 상위 n%와 하위 n%의 차이를 알고 싶은 것\n",
    "    - 복잡한 Regression 문제보다 1 또는 0을 마추는 Classification Problem으로 전환해보자\n",
    "    - 그리고 상위 n%가 나오는 Rule을 도출해보자 (해석력을 얻기 위함)\n",
    "    - 이렇게 할 경우 데이터 손실이 있기 때문에 데이터가 많은 경우 써먹어보자"
   ]
  },
  {
   "cell_type": "code",
   "execution_count": 6,
   "id": "e13e6186-36a2-4dcb-882a-11b57905ca7f",
   "metadata": {},
   "outputs": [
    {
     "name": "stdout",
     "output_type": "stream",
     "text": [
      ">>>> 70 Percentile : 0.821760391\n",
      ">>>> 30 Percentile : 0.7269621028\n"
     ]
    }
   ],
   "source": [
    "per_70 = np.percentile(data['Y'], 70)\n",
    "per_30 = np.percentile(data['Y'], 30)\n",
    "print(\">>>> 70 Percentile : {}\".format(per_70))\n",
    "print(\">>>> 30 Percentile : {}\".format(per_30))"
   ]
  },
  {
   "cell_type": "code",
   "execution_count": 7,
   "id": "501b3df3-a5e8-4cf4-90de-d39d3fa69da0",
   "metadata": {},
   "outputs": [
    {
     "name": "stdout",
     "output_type": "stream",
     "text": [
      "Data shape : (2101, 345)\n"
     ]
    }
   ],
   "source": [
    "data = data[(data['Y'] >= per_70) | (data['Y'] <= per_30)]\n",
    "data.reset_index(inplace=True, drop=True)\n",
    "print('Data shape : {}'.format(data.shape))"
   ]
  },
  {
   "cell_type": "code",
   "execution_count": 8,
   "id": "6475163c-8688-4b69-809a-fea8d02693ee",
   "metadata": {},
   "outputs": [
    {
     "name": "stdout",
     "output_type": "stream",
     "text": [
      "Unique Label : {0, 1}\n"
     ]
    }
   ],
   "source": [
    "data['Label'] = 3\n",
    "data['Label'].iloc[np.where(data['Y'] >= per_70)[0]] = 1\n",
    "data['Label'].iloc[np.where(data['Y'] <= per_30)[0]] = 0\n",
    "print(\"Unique Label : {}\".format(set(data['Label'])))"
   ]
  },
  {
   "cell_type": "code",
   "execution_count": 9,
   "id": "a23fa0fc-ae9f-42e9-908a-9e6b1b3ae6b7",
   "metadata": {},
   "outputs": [
    {
     "data": {
      "text/plain": [
       "Counter({1: 1051, 0: 1050})"
      ]
     },
     "execution_count": 9,
     "metadata": {},
     "output_type": "execute_result"
    }
   ],
   "source": [
    "Counter(data['Label'])"
   ]
  },
  {
   "cell_type": "code",
   "execution_count": 10,
   "id": "f10865d2-2118-4703-a8ae-d038df671a74",
   "metadata": {},
   "outputs": [],
   "source": [
    "# X1, X2, X3는 Y에 영향을 너무 많이 미치는 변수이기 때문에 빼고 다른 변수에서 중요도를 찾아보자\n",
    "Y = data['Label']\n",
    "X = data.drop(columns=['Y', 'X1', 'X2', 'X3', 'Label'])"
   ]
  },
  {
   "cell_type": "code",
   "execution_count": 11,
   "id": "f0080ec2-2997-46e3-8437-5c23ee882568",
   "metadata": {},
   "outputs": [
    {
     "name": "stdout",
     "output_type": "stream",
     "text": [
      ">>>> # of Train data : 1470\n",
      ">>>> # of valid data : 631\n"
     ]
    }
   ],
   "source": [
    "idx = list(range(X.shape[0]))\n",
    "train_idx, valid_idx = train_test_split(idx, test_size=0.3, random_state=2021)\n",
    "print(\">>>> # of Train data : {}\".format(len(train_idx)))\n",
    "print(\">>>> # of valid data : {}\".format(len(valid_idx)))"
   ]
  },
  {
   "cell_type": "markdown",
   "id": "258d51ea-c429-4392-bed4-74b3be2e36c7",
   "metadata": {},
   "source": [
    "<b><u>[LightGBM]</u></b>\n",
    "- Hyperparameter tuning\n",
    "    - n_estimators, learning_rate, max_depth, reg_alpha\n",
    "    - LightGBM은 Hyperparam이 굉장히 많은 알고리즘 중에 하나임\n",
    "    - 위에 4가지만 잘 조정해도 좋은 결과를 얻을 수 있음\n",
    "    - 내가 많이 해봤음"
   ]
  },
  {
   "cell_type": "code",
   "execution_count": 13,
   "id": "90bc0acb-8fca-49fa-a91c-4aae30e40103",
   "metadata": {},
   "outputs": [
    {
     "name": "stdout",
     "output_type": "stream",
     "text": [
      ">>> 0 <<<\n",
      "n_estimators : 50, learning_rate : 0.1, max_depth : 10, reg_alpha : 0.1\n",
      "Train Confusion Matrix\n",
      "[[740   0]\n",
      " [  0 730]]\n",
      "Train Acc : 1.0\n",
      "Test Confusion Matrix\n",
      "[[220  90]\n",
      " [ 52 269]]\n",
      "TesT Acc : 0.7749603803486529\n",
      "-----------------------------------------------------------------------\n",
      "-----------------------------------------------------------------------\n",
      ">>> 1 <<<\n",
      "n_estimators : 50, learning_rate : 0.1, max_depth : 10, reg_alpha : 1\n",
      "Train Confusion Matrix\n",
      "[[738   2]\n",
      " [  3 727]]\n",
      "Train Acc : 0.9965986394557823\n",
      "Test Confusion Matrix\n",
      "[[226  84]\n",
      " [ 47 274]]\n",
      "TesT Acc : 0.7923930269413629\n",
      "-----------------------------------------------------------------------\n",
      "-----------------------------------------------------------------------\n",
      ">>> 2 <<<\n",
      "n_estimators : 50, learning_rate : 0.1, max_depth : 20, reg_alpha : 0.1\n",
      "Train Confusion Matrix\n",
      "[[740   0]\n",
      " [  0 730]]\n",
      "Train Acc : 1.0\n",
      "Test Confusion Matrix\n",
      "[[219  91]\n",
      " [ 49 272]]\n",
      "TesT Acc : 0.7781299524564184\n",
      "-----------------------------------------------------------------------\n",
      "-----------------------------------------------------------------------\n",
      ">>> 3 <<<\n",
      "n_estimators : 50, learning_rate : 0.1, max_depth : 20, reg_alpha : 1\n",
      "Train Confusion Matrix\n",
      "[[738   2]\n",
      " [  2 728]]\n",
      "Train Acc : 0.9972789115646259\n",
      "Test Confusion Matrix\n",
      "[[225  85]\n",
      " [ 47 274]]\n",
      "TesT Acc : 0.7908082408874801\n",
      "-----------------------------------------------------------------------\n",
      "-----------------------------------------------------------------------\n",
      ">>> 4 <<<\n",
      "n_estimators : 50, learning_rate : 0.5, max_depth : 10, reg_alpha : 0.1\n",
      "Train Confusion Matrix\n",
      "[[740   0]\n",
      " [  0 730]]\n",
      "Train Acc : 1.0\n",
      "Test Confusion Matrix\n",
      "[[228  82]\n",
      " [ 58 263]]\n",
      "TesT Acc : 0.7781299524564184\n",
      "-----------------------------------------------------------------------\n",
      "-----------------------------------------------------------------------\n",
      ">>> 5 <<<\n",
      "n_estimators : 50, learning_rate : 0.5, max_depth : 10, reg_alpha : 1\n",
      "Train Confusion Matrix\n",
      "[[740   0]\n",
      " [  0 730]]\n",
      "Train Acc : 1.0\n",
      "Test Confusion Matrix\n",
      "[[226  84]\n",
      " [ 61 260]]\n",
      "TesT Acc : 0.7702060221870047\n",
      "-----------------------------------------------------------------------\n",
      "-----------------------------------------------------------------------\n",
      ">>> 6 <<<\n",
      "n_estimators : 50, learning_rate : 0.5, max_depth : 20, reg_alpha : 0.1\n",
      "Train Confusion Matrix\n",
      "[[740   0]\n",
      " [  0 730]]\n",
      "Train Acc : 1.0\n",
      "Test Confusion Matrix\n",
      "[[223  87]\n",
      " [ 55 266]]\n",
      "TesT Acc : 0.7749603803486529\n",
      "-----------------------------------------------------------------------\n",
      "-----------------------------------------------------------------------\n",
      ">>> 7 <<<\n",
      "n_estimators : 50, learning_rate : 0.5, max_depth : 20, reg_alpha : 1\n",
      "Train Confusion Matrix\n",
      "[[740   0]\n",
      " [  0 730]]\n",
      "Train Acc : 1.0\n",
      "Test Confusion Matrix\n",
      "[[228  82]\n",
      " [ 61 260]]\n",
      "TesT Acc : 0.7733755942947702\n",
      "-----------------------------------------------------------------------\n",
      "-----------------------------------------------------------------------\n",
      ">>> 8 <<<\n",
      "n_estimators : 70, learning_rate : 0.1, max_depth : 10, reg_alpha : 0.1\n",
      "Train Confusion Matrix\n",
      "[[740   0]\n",
      " [  0 730]]\n",
      "Train Acc : 1.0\n",
      "Test Confusion Matrix\n",
      "[[216  94]\n",
      " [ 54 267]]\n",
      "TesT Acc : 0.7654516640253566\n",
      "-----------------------------------------------------------------------\n",
      "-----------------------------------------------------------------------\n",
      ">>> 9 <<<\n",
      "n_estimators : 70, learning_rate : 0.1, max_depth : 10, reg_alpha : 1\n",
      "Train Confusion Matrix\n",
      "[[740   0]\n",
      " [  0 730]]\n",
      "Train Acc : 1.0\n",
      "Test Confusion Matrix\n",
      "[[224  86]\n",
      " [ 49 272]]\n",
      "TesT Acc : 0.786053882725832\n",
      "-----------------------------------------------------------------------\n",
      "-----------------------------------------------------------------------\n",
      ">>> 10 <<<\n",
      "n_estimators : 70, learning_rate : 0.1, max_depth : 20, reg_alpha : 0.1\n",
      "Train Confusion Matrix\n",
      "[[740   0]\n",
      " [  0 730]]\n",
      "Train Acc : 1.0\n",
      "Test Confusion Matrix\n",
      "[[218  92]\n",
      " [ 54 267]]\n",
      "TesT Acc : 0.768621236133122\n",
      "-----------------------------------------------------------------------\n",
      "-----------------------------------------------------------------------\n",
      ">>> 11 <<<\n",
      "n_estimators : 70, learning_rate : 0.1, max_depth : 20, reg_alpha : 1\n",
      "Train Confusion Matrix\n",
      "[[740   0]\n",
      " [  0 730]]\n",
      "Train Acc : 1.0\n",
      "Test Confusion Matrix\n",
      "[[223  87]\n",
      " [ 50 271]]\n",
      "TesT Acc : 0.7828843106180665\n",
      "-----------------------------------------------------------------------\n",
      "-----------------------------------------------------------------------\n",
      ">>> 12 <<<\n",
      "n_estimators : 70, learning_rate : 0.5, max_depth : 10, reg_alpha : 0.1\n",
      "Train Confusion Matrix\n",
      "[[740   0]\n",
      " [  0 730]]\n",
      "Train Acc : 1.0\n",
      "Test Confusion Matrix\n",
      "[[228  82]\n",
      " [ 57 264]]\n",
      "TesT Acc : 0.7797147385103012\n",
      "-----------------------------------------------------------------------\n",
      "-----------------------------------------------------------------------\n",
      ">>> 13 <<<\n",
      "n_estimators : 70, learning_rate : 0.5, max_depth : 10, reg_alpha : 1\n",
      "Train Confusion Matrix\n",
      "[[740   0]\n",
      " [  0 730]]\n",
      "Train Acc : 1.0\n",
      "Test Confusion Matrix\n",
      "[[226  84]\n",
      " [ 61 260]]\n",
      "TesT Acc : 0.7702060221870047\n",
      "-----------------------------------------------------------------------\n",
      "-----------------------------------------------------------------------\n",
      ">>> 14 <<<\n",
      "n_estimators : 70, learning_rate : 0.5, max_depth : 20, reg_alpha : 0.1\n",
      "Train Confusion Matrix\n",
      "[[740   0]\n",
      " [  0 730]]\n",
      "Train Acc : 1.0\n",
      "Test Confusion Matrix\n",
      "[[223  87]\n",
      " [ 56 265]]\n",
      "TesT Acc : 0.7733755942947702\n",
      "-----------------------------------------------------------------------\n",
      "-----------------------------------------------------------------------\n",
      ">>> 15 <<<\n",
      "n_estimators : 70, learning_rate : 0.5, max_depth : 20, reg_alpha : 1\n",
      "Train Confusion Matrix\n",
      "[[740   0]\n",
      " [  0 730]]\n",
      "Train Acc : 1.0\n",
      "Test Confusion Matrix\n",
      "[[228  82]\n",
      " [ 61 260]]\n",
      "TesT Acc : 0.7733755942947702\n",
      "-----------------------------------------------------------------------\n",
      "-----------------------------------------------------------------------\n",
      ">>> 16 <<<\n",
      "n_estimators : 100, learning_rate : 0.1, max_depth : 10, reg_alpha : 0.1\n",
      "Train Confusion Matrix\n",
      "[[740   0]\n",
      " [  0 730]]\n",
      "Train Acc : 1.0\n",
      "Test Confusion Matrix\n",
      "[[219  91]\n",
      " [ 52 269]]\n",
      "TesT Acc : 0.7733755942947702\n",
      "-----------------------------------------------------------------------\n",
      "-----------------------------------------------------------------------\n",
      ">>> 17 <<<\n",
      "n_estimators : 100, learning_rate : 0.1, max_depth : 10, reg_alpha : 1\n",
      "Train Confusion Matrix\n",
      "[[740   0]\n",
      " [  0 730]]\n",
      "Train Acc : 1.0\n",
      "Test Confusion Matrix\n",
      "[[223  87]\n",
      " [ 54 267]]\n",
      "TesT Acc : 0.7765451664025357\n",
      "-----------------------------------------------------------------------\n",
      "-----------------------------------------------------------------------\n",
      ">>> 18 <<<\n",
      "n_estimators : 100, learning_rate : 0.1, max_depth : 20, reg_alpha : 0.1\n",
      "Train Confusion Matrix\n",
      "[[740   0]\n",
      " [  0 730]]\n",
      "Train Acc : 1.0\n",
      "Test Confusion Matrix\n",
      "[[224  86]\n",
      " [ 55 266]]\n",
      "TesT Acc : 0.7765451664025357\n",
      "-----------------------------------------------------------------------\n",
      "-----------------------------------------------------------------------\n",
      ">>> 19 <<<\n",
      "n_estimators : 100, learning_rate : 0.1, max_depth : 20, reg_alpha : 1\n",
      "Train Confusion Matrix\n",
      "[[740   0]\n",
      " [  0 730]]\n",
      "Train Acc : 1.0\n",
      "Test Confusion Matrix\n",
      "[[223  87]\n",
      " [ 51 270]]\n",
      "TesT Acc : 0.7812995245641838\n",
      "-----------------------------------------------------------------------\n",
      "-----------------------------------------------------------------------\n",
      ">>> 20 <<<\n",
      "n_estimators : 100, learning_rate : 0.5, max_depth : 10, reg_alpha : 0.1\n",
      "Train Confusion Matrix\n",
      "[[740   0]\n",
      " [  0 730]]\n",
      "Train Acc : 1.0\n",
      "Test Confusion Matrix\n",
      "[[228  82]\n",
      " [ 57 264]]\n",
      "TesT Acc : 0.7797147385103012\n",
      "-----------------------------------------------------------------------\n",
      "-----------------------------------------------------------------------\n",
      ">>> 21 <<<\n",
      "n_estimators : 100, learning_rate : 0.5, max_depth : 10, reg_alpha : 1\n",
      "Train Confusion Matrix\n",
      "[[740   0]\n",
      " [  0 730]]\n",
      "Train Acc : 1.0\n",
      "Test Confusion Matrix\n",
      "[[226  84]\n",
      " [ 61 260]]\n",
      "TesT Acc : 0.7702060221870047\n",
      "-----------------------------------------------------------------------\n",
      "-----------------------------------------------------------------------\n",
      ">>> 22 <<<\n",
      "n_estimators : 100, learning_rate : 0.5, max_depth : 20, reg_alpha : 0.1\n",
      "Train Confusion Matrix\n",
      "[[740   0]\n",
      " [  0 730]]\n",
      "Train Acc : 1.0\n",
      "Test Confusion Matrix\n",
      "[[223  87]\n",
      " [ 56 265]]\n",
      "TesT Acc : 0.7733755942947702\n",
      "-----------------------------------------------------------------------\n",
      "-----------------------------------------------------------------------\n",
      ">>> 23 <<<\n",
      "n_estimators : 100, learning_rate : 0.5, max_depth : 20, reg_alpha : 1\n",
      "Train Confusion Matrix\n",
      "[[740   0]\n",
      " [  0 730]]\n",
      "Train Acc : 1.0\n",
      "Test Confusion Matrix\n",
      "[[228  82]\n",
      " [ 61 260]]\n",
      "TesT Acc : 0.7733755942947702\n",
      "-----------------------------------------------------------------------\n",
      "-----------------------------------------------------------------------\n"
     ]
    }
   ],
   "source": [
    "# Parameter Tuning - Reference : https://lightgbm.readthedocs.io/en/latest/pythonapi/lightgbm.LGBMClassifier.html\n",
    "# n_estimators\n",
    "n_tree = [50, 70, 100]\n",
    "# learning_rate\n",
    "l_rate = [0.1, 0.5]\n",
    "# max_depth\n",
    "m_depth = [10, 20]\n",
    "# reg_alpha\n",
    "L1_norm = [0.1, 1]\n",
    "\n",
    "# Modeling\n",
    "save_n = []\n",
    "save_l = []\n",
    "save_m = []\n",
    "save_L1 = []\n",
    "save_acc = []\n",
    "\n",
    "cnt = 0\n",
    "\n",
    "for n in n_tree:\n",
    "    for l in l_rate:\n",
    "        for m in m_depth:\n",
    "            for L1 in L1_norm:\n",
    "                \n",
    "                print(\">>> {} <<<\".format(cnt))\n",
    "                cnt +=1\n",
    "                print(\"n_estimators : {}, learning_rate : {}, max_depth : {}, reg_alpha : {}\".format(n, l, m, L1))\n",
    "                model = LGBMClassifier(n_estimators=n, learning_rate=l, \n",
    "                                       max_depth=m, reg_alpha=L1, \n",
    "                                       n_jobs=-1, objective='binary')\n",
    "                model.fit(X.iloc[train_idx], Y.iloc[train_idx])\n",
    "                \n",
    "                \n",
    "                # Train Acc\n",
    "                y_pre_train = model.predict(X.iloc[train_idx])\n",
    "                cm_train = confusion_matrix(Y.iloc[train_idx], y_pre_train)\n",
    "                print(\"Train Confusion Matrix\")\n",
    "                print(cm_train)\n",
    "                print(\"Train Acc : {}\".format((cm_train[0,0] + cm_train[1,1])/cm_train.sum()))\n",
    "\n",
    "                # Test Acc\n",
    "                y_pre_test = model.predict(X.iloc[valid_idx])\n",
    "                cm_test = confusion_matrix(Y.iloc[valid_idx], y_pre_test)\n",
    "                print(\"Test Confusion Matrix\")\n",
    "                print(cm_test)\n",
    "                print(\"TesT Acc : {}\".format((cm_test[0,0] + cm_test[1,1])/cm_test.sum()))\n",
    "                print(\"-----------------------------------------------------------------------\")\n",
    "                print(\"-----------------------------------------------------------------------\")\n",
    "                save_n.append(n)\n",
    "                save_l.append(l)\n",
    "                save_m.append(m)\n",
    "                save_L1.append(L1)\n",
    "                save_acc.append((cm_test[0,0] + cm_test[1,1])/cm_test.sum())\n",
    "                \n",
    "                joblib.dump(model, './LightGBM_model/Result_{}_{}_{}_{}_{}.pkl'.format(n, l, m, L1, round(save_acc[-1], 4)))\n",
    "                gc.collect()"
   ]
  },
  {
   "cell_type": "code",
   "execution_count": 14,
   "id": "cd359463-a54d-4780-b357-1afc4aa85238",
   "metadata": {},
   "outputs": [
    {
     "name": "stdout",
     "output_type": "stream",
     "text": [
      ">>> 1 <<<\n",
      "Best Test Acc : 0.7923930269413629\n",
      "Best n_estimators : 50\n",
      "Best Learning Rate : 0.1\n",
      "Best Max_Depth : 10\n",
      "Best L1-norm term : 1\n"
     ]
    }
   ],
   "source": [
    "# Best Param\n",
    "print(\">>> {} <<<\\nBest Test Acc : {}\\nBest n_estimators : {}\\nBest Learning Rate : {}\\nBest Max_Depth : {}\\nBest L1-norm term : {}\".format(np.argmax(save_acc),\n",
    "                                                                                                                                            save_acc[np.argmax(save_acc)], \n",
    "                                                                                                                                            save_n[np.argmax(save_acc)],\n",
    "                                                                                                                                            save_l[np.argmax(save_acc)],\n",
    "                                                                                                                                            save_m[np.argmax(save_acc)],\n",
    "                                                                                                                                            save_L1[np.argmax(save_acc)]))"
   ]
  },
  {
   "cell_type": "code",
   "execution_count": 16,
   "id": "8ff392f3-abd4-4885-be63-6ef0c9100535",
   "metadata": {},
   "outputs": [],
   "source": [
    "# Best Model Loading\n",
    "model = joblib.load(\"./LightGBM_model/Result_{}_{}_{}_{}_{}.pkl\".format(save_n[np.argmax(save_acc)],\n",
    "                                                                       save_l[np.argmax(save_acc)],\n",
    "                                                                       save_m[np.argmax(save_acc)],\n",
    "                                                                       save_L1[np.argmax(save_acc)],\n",
    "                                                                       round(save_acc[np.argmax(save_acc)], 4))) "
   ]
  },
  {
   "cell_type": "code",
   "execution_count": 17,
   "id": "05b44636-9e31-41c5-a8d2-eb2c9dd875e5",
   "metadata": {},
   "outputs": [
    {
     "name": "stdout",
     "output_type": "stream",
     "text": [
      "    Score Feature\n",
      "0      99     X23\n",
      "1      42     X22\n",
      "2      27    X258\n",
      "3      27    X253\n",
      "4      25    X259\n",
      "5      24    X223\n",
      "6      21     X71\n",
      "7      21    X261\n",
      "8      21    X254\n",
      "9      21    X110\n",
      "10     20    X275\n",
      "11     20    X267\n",
      "12     19    X280\n",
      "13     19     X18\n",
      "14     18     X16\n",
      "15     17    X200\n",
      "16     17    X195\n",
      "17     16     X30\n",
      "18     16    X155\n",
      "19     15    X222\n"
     ]
    }
   ],
   "source": [
    "feature_map = pd.DataFrame(sorted(zip(model.feature_importances_, X.columns), reverse=True), columns=['Score', 'Feature'])[:20]\n",
    "print(feature_map)"
   ]
  },
  {
   "cell_type": "code",
   "execution_count": 18,
   "id": "8655a592-ec34-438d-97d4-b0a66f01b620",
   "metadata": {},
   "outputs": [
    {
     "data": {
      "image/png": "[encoded data removed]",
      "text/plain": [
       "<Figure size 1440x720 with 1 Axes>"
      ]
     },
     "metadata": {
      "needs_background": "light"
     },
     "output_type": "display_data"
    }
   ],
   "source": [
    "plt.figure(figsize=(20, 10))\n",
    "sns.barplot(x=\"Score\", y=\"Feature\", data=feature_map.sort_values(by=\"Score\", ascending=False), errwidth=40)\n",
    "plt.title('LightGBM Importance Features')\n",
    "plt.tight_layout()\n",
    "plt.show()"
   ]
  }
 ],
 "metadata": {
  "kernelspec": {
   "display_name": "Python 3 (ipykernel)",
   "language": "python",
   "name": "python3"
  },
  "language_info": {
   "codemirror_mode": {
    "name": "ipython",
    "version": 3
   },
   "file_extension": ".py",
   "mimetype": "text/x-python",
   "name": "python",
   "nbconvert_exporter": "python",
   "pygments_lexer": "ipython3",
   "version": "3.7.11"
  }
 },
 "nbformat": 4,
 "nbformat_minor": 5
}
