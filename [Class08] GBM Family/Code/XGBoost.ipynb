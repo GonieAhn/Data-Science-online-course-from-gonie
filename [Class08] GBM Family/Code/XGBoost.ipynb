{
 "cells": [
  {
   "cell_type": "markdown",
   "id": "68bb7bb9-bc66-4815-94a6-c343ed98626c",
   "metadata": {},
   "source": [
    "# XGBoost Code Tutorial\n",
    "\n",
    "<b><u>[목적]</u></b>\n",
    "- 이전 모델에서는 Missing Value 값들을 전부 삭제하고 진행함\n",
    "- XGBoost의 경우 Missing Value를 모델 자체 내에서 처리해주기 때문에 삭제하지 않음\n",
    "- 현재는 충분한 데이터가 있기 때문에 Missing Value를 전부 삭제해도 무관함\n",
    "- 빅데이터를 빠르게 수행함\n",
    "\n",
    "<b><u>[Process]</u></b>\n",
    "- Data Path = 'https://github.com/GonieAhn/Data-Science-online-course-from-gonie/tree/main/Data%20Store'\n",
    "- Define X's & Y\n",
    "- Transform Y (Numeric --> Category)\n",
    "- Split Train & Valid data set\n",
    "- Modeling\n",
    "- 해석\n",
    "\n",
    "<b><u>[주의]</u></b>\n",
    "- Tutorial Code가 있는 폴더에 \"XGBoost_model\"라는 폴더를 만들어줘야함 (모델 저장)\n",
    "- 생성한 폴더에 Hyperparameter를 Tuning 하면서 모델을 모두 저장함"
   ]
  },
  {
   "cell_type": "code",
   "execution_count": 1,
   "id": "3b67ab37-70e9-4560-ba5d-f3a43c8314cf",
   "metadata": {},
   "outputs": [],
   "source": [
    "import os\n",
    "import gc\n",
    "import re\n",
    "import pickle\n",
    "import joblib\n",
    "import pandas as pd\n",
    "import matplotlib.pyplot as plt\n",
    "import numpy as np\n",
    "import seaborn as sns\n",
    "\n",
    "import warnings\n",
    "warnings.filterwarnings(\"ignore\")\n",
    "\n",
    "from sklearn.model_selection import train_test_split\n",
    "from sklearn.metrics import confusion_matrix\n",
    "from xgboost import XGBClassifier, XGBRegressor\n",
    "from collections import Counter\n",
    " "
   ]
  },
  {
   "cell_type": "code",
   "execution_count": 4,
   "id": "32dcb1d4-6bd7-4e29-8e29-5017e75beab8",
   "metadata": {},
   "outputs": [
    {
     "name": "stdout",
     "output_type": "stream",
     "text": [
      ">>>> Data Shape : (3500, 355)\n",
      "Wall time: 251 ms\n"
     ]
    }
   ],
   "source": [
    "%%time\n",
    "# Data Load \n",
    "data = pd.read_csv(\"../Data Store/TOY_DATA.csv\")\n",
    "data.drop(columns=['Unnamed: 0', 'Unnamed: 0.1'], inplace=True)\n",
    "print(\">>>> Data Shape : {}\".format(data.shape))"
   ]
  },
  {
   "cell_type": "markdown",
   "id": "483ecfe0-5696-4138-9280-eace685fc1a0",
   "metadata": {},
   "source": [
    "<b><u>[Data Condition Check]</u></b>\n",
    "- XGBoost Package의 경우 변수 Name 중 특수 문자가 들어가면 오류가 나게 되어 있음\n",
    "    - 따라서 변수이름들을 모두 전처리 해줘야함\n",
    "- Data Condition\n",
    "    - 그 전 Tutorial에서는 Missing Value에 대한 Row를 모두 삭제함\n",
    "    - 이번에는 살려둠\n",
    "    - 변수는 Missing Percentage와 Level(Unique) 값에 따라 삭제함"
   ]
  },
  {
   "cell_type": "code",
   "execution_count": 5,
   "id": "4555d642-4226-4fc0-9673-aa9403d1d04e",
   "metadata": {},
   "outputs": [],
   "source": [
    "# Feature Name Cleaning\n",
    "regex = re.compile(r\"\\[|\\]|<\", re.IGNORECASE)\n",
    "data.columns = [regex.sub(\"_\", col) if any(x in str(col) for x in set(('[', ']', '<'))) else col for col in data.columns.values]"
   ]
  },
  {
   "cell_type": "code",
   "execution_count": 6,
   "id": "a39488ba-9c6c-4c30-9e31-2610f5a7641e",
   "metadata": {},
   "outputs": [
    {
     "name": "stdout",
     "output_type": "stream",
     "text": [
      ">>>> Data Shape : (3500, 345)\n"
     ]
    }
   ],
   "source": [
    "# Data Checking\n",
    "col = []\n",
    "missing = []\n",
    "level = [] \n",
    "for name in data.columns:\n",
    "    \n",
    "    # Missing\n",
    "    missper = data[name].isnull().sum() / data.shape[0]\n",
    "    missing.append(round(missper, 4))\n",
    "\n",
    "    # Leveling\n",
    "    lel = data[name].dropna()\n",
    "    level.append(len(list(set(lel))))\n",
    "\n",
    "    # Columns\n",
    "    col.append(name)\n",
    "\n",
    "summary = pd.concat([pd.DataFrame(col, columns=['name']), \n",
    "                     pd.DataFrame(missing, columns=['Missing Percentage']), \n",
    "                     pd.DataFrame(level, columns=['Level'])], axis=1)\n",
    "\n",
    "drop_col = summary['name'][(summary['Level'] <= 1) | (summary['Missing Percentage'] >= 0.8)]\n",
    "data.drop(columns=drop_col, inplace=True)\n",
    "print(\">>>> Data Shape : {}\".format(data.shape))"
   ]
  },
  {
   "cell_type": "code",
   "execution_count": 7,
   "id": "e1de4220-9829-466f-80fd-fdf907f03d9e",
   "metadata": {},
   "outputs": [
    {
     "data": {
      "text/plain": [
       "57      X57\n",
       "59      X59\n",
       "108    X108\n",
       "114    X114\n",
       "132    X132\n",
       "140    X140\n",
       "151    X151\n",
       "344    X344\n",
       "353    X353\n",
       "354    X354\n",
       "Name: name, dtype: object"
      ]
     },
     "execution_count": 7,
     "metadata": {},
     "output_type": "execute_result"
    }
   ],
   "source": [
    "drop_col"
   ]
  },
  {
   "cell_type": "markdown",
   "id": "8b613760-3a68-4808-b392-50d4fa974d5a",
   "metadata": {},
   "source": [
    "<b><u>[Change Regression P to Classification P]</u></b>\n",
    "- Data Cleaning 진행\n",
    "- Regression Problem ==> Classification Problem 상위 30% [Class 1]과 하위 30% [Class 0]\n",
    "    - 이렇게 하는 이유는 결국 우리는 상위 n%와 하위 n%의 차이를 알고 싶은 것\n",
    "    - 복잡한 Regression 문제보다 1 또는 0을 마추는 Classification Problem으로 전환해보자\n",
    "    - 그리고 상위 n%가 나오는 Rule을 도출해보자 (해석력을 얻기 위함)\n",
    "    - 이렇게 할 경우 데이터 손실이 있기 때문에 데이터가 많은 경우 써먹어보자"
   ]
  },
  {
   "cell_type": "code",
   "execution_count": 8,
   "id": "151b9afd-9799-4514-b7fc-ec52c683be42",
   "metadata": {},
   "outputs": [
    {
     "name": "stdout",
     "output_type": "stream",
     "text": [
      ">>>> 70 Percentile : 0.821760391\n",
      ">>>> 30 Percentile : 0.7269621028\n"
     ]
    }
   ],
   "source": [
    "per_70 = np.percentile(data['Y'], 70)\n",
    "per_30 = np.percentile(data['Y'], 30)\n",
    "print(\">>>> 70 Percentile : {}\".format(per_70))\n",
    "print(\">>>> 30 Percentile : {}\".format(per_30))"
   ]
  },
  {
   "cell_type": "code",
   "execution_count": 9,
   "id": "1f03f3e0-4d73-492a-8a34-9e0d3c2f4eca",
   "metadata": {},
   "outputs": [
    {
     "name": "stdout",
     "output_type": "stream",
     "text": [
      "Data shape : (2101, 345)\n"
     ]
    }
   ],
   "source": [
    "data = data[(data['Y'] >= per_70) | (data['Y'] <= per_30)]\n",
    "data.reset_index(inplace=True, drop=True)\n",
    "print('Data shape : {}'.format(data.shape))"
   ]
  },
  {
   "cell_type": "code",
   "execution_count": 10,
   "id": "42748a5b-0acb-479c-9ace-f0a69f44b574",
   "metadata": {},
   "outputs": [
    {
     "name": "stdout",
     "output_type": "stream",
     "text": [
      "Unique Label : {0, 1}\n"
     ]
    }
   ],
   "source": [
    "data['Label'] = 3\n",
    "data['Label'].iloc[np.where(data['Y'] >= per_70)[0]] = 1\n",
    "data['Label'].iloc[np.where(data['Y'] <= per_30)[0]] = 0\n",
    "print(\"Unique Label : {}\".format(set(data['Label'])))"
   ]
  },
  {
   "cell_type": "code",
   "execution_count": 11,
   "id": "211aec5c-cfbf-45c6-9647-016bd9d5660a",
   "metadata": {},
   "outputs": [
    {
     "data": {
      "text/plain": [
       "Counter({1: 1051, 0: 1050})"
      ]
     },
     "execution_count": 11,
     "metadata": {},
     "output_type": "execute_result"
    }
   ],
   "source": [
    "Counter(data['Label'])"
   ]
  },
  {
   "cell_type": "code",
   "execution_count": 12,
   "id": "41b83d21-8ab8-4399-bc49-e249725cef92",
   "metadata": {},
   "outputs": [],
   "source": [
    "Y = data['Label']\n",
    "X = data.drop(columns=['Y', 'X1', 'X2', 'X3', 'Label'])"
   ]
  },
  {
   "cell_type": "code",
   "execution_count": 13,
   "id": "f39a5e99-d4bc-4c6d-ba0b-d2ae8a7ec0aa",
   "metadata": {},
   "outputs": [
    {
     "name": "stdout",
     "output_type": "stream",
     "text": [
      ">>>> # of Train data : 1470\n",
      ">>>> # of valid data : 631\n"
     ]
    }
   ],
   "source": [
    "idx = list(range(X.shape[0]))\n",
    "train_idx, valid_idx = train_test_split(idx, test_size=0.3, random_state=2021)\n",
    "print(\">>>> # of Train data : {}\".format(len(train_idx)))\n",
    "print(\">>>> # of valid data : {}\".format(len(valid_idx)))"
   ]
  },
  {
   "cell_type": "markdown",
   "id": "f9a38095-aba3-4297-bc63-242acc22eac6",
   "metadata": {},
   "source": [
    "<b><u>[XGBoost]</u></b>\n",
    "- Hyperparameter tuning\n",
    "    - n_estimators, learning_rate, max_depth, reg_alpha\n",
    "    - XGBoost은 Hyperparam이 굉장히 많은 알고리즘 중에 하나임\n",
    "    - 위에 4가지만 잘 조정해도 좋은 결과를 얻을 수 있음\n",
    "    - 내가 많이 해봤음"
   ]
  },
  {
   "cell_type": "code",
   "execution_count": 14,
   "id": "0922a103-a29f-4b09-b116-51227b682e21",
   "metadata": {},
   "outputs": [
    {
     "name": "stdout",
     "output_type": "stream",
     "text": [
      ">>> 0 <<<\n",
      "n_estimators : 20, learning_rate : 0.1, max_depth : 10, reg_alpha : 0.1\n",
      "[10:31:18] WARNING: D:\\bld\\xgboost-split_1637426510059\\work\\src\\learner.cc:1115: Starting in XGBoost 1.3.0, the default evaluation metric used with the objective 'binary:logistic' was changed from 'error' to 'logloss'. Explicitly set eval_metric if you'd like to restore the old behavior.\n",
      "Train Confusion Matrix\n",
      "[[737   3]\n",
      " [  0 730]]\n",
      "Train Acc : 0.9979591836734694\n",
      "Test Confusion Matrix\n",
      "[[223  87]\n",
      " [ 57 264]]\n",
      "TesT Acc : 0.7717908082408875\n",
      "-----------------------------------------------------------------------\n",
      "-----------------------------------------------------------------------\n",
      ">>> 1 <<<\n",
      "n_estimators : 20, learning_rate : 0.1, max_depth : 10, reg_alpha : 1\n",
      "[10:31:18] WARNING: D:\\bld\\xgboost-split_1637426510059\\work\\src\\learner.cc:1115: Starting in XGBoost 1.3.0, the default evaluation metric used with the objective 'binary:logistic' was changed from 'error' to 'logloss'. Explicitly set eval_metric if you'd like to restore the old behavior.\n",
      "Train Confusion Matrix\n",
      "[[724  16]\n",
      " [  4 726]]\n",
      "Train Acc : 0.9863945578231292\n",
      "Test Confusion Matrix\n",
      "[[226  84]\n",
      " [ 56 265]]\n",
      "TesT Acc : 0.7781299524564184\n",
      "-----------------------------------------------------------------------\n",
      "-----------------------------------------------------------------------\n",
      ">>> 2 <<<\n",
      "n_estimators : 20, learning_rate : 0.1, max_depth : 20, reg_alpha : 0.1\n",
      "[10:31:19] WARNING: D:\\bld\\xgboost-split_1637426510059\\work\\src\\learner.cc:1115: Starting in XGBoost 1.3.0, the default evaluation metric used with the objective 'binary:logistic' was changed from 'error' to 'logloss'. Explicitly set eval_metric if you'd like to restore the old behavior.\n",
      "Train Confusion Matrix\n",
      "[[739   1]\n",
      " [  0 730]]\n",
      "Train Acc : 0.9993197278911564\n",
      "Test Confusion Matrix\n",
      "[[230  80]\n",
      " [ 59 262]]\n",
      "TesT Acc : 0.7797147385103012\n",
      "-----------------------------------------------------------------------\n",
      "-----------------------------------------------------------------------\n",
      ">>> 3 <<<\n",
      "n_estimators : 20, learning_rate : 0.1, max_depth : 20, reg_alpha : 1\n",
      "[10:31:20] WARNING: D:\\bld\\xgboost-split_1637426510059\\work\\src\\learner.cc:1115: Starting in XGBoost 1.3.0, the default evaluation metric used with the objective 'binary:logistic' was changed from 'error' to 'logloss'. Explicitly set eval_metric if you'd like to restore the old behavior.\n",
      "Train Confusion Matrix\n",
      "[[735   5]\n",
      " [  3 727]]\n",
      "Train Acc : 0.9945578231292517\n",
      "Test Confusion Matrix\n",
      "[[227  83]\n",
      " [ 56 265]]\n",
      "TesT Acc : 0.7797147385103012\n",
      "-----------------------------------------------------------------------\n",
      "-----------------------------------------------------------------------\n",
      ">>> 4 <<<\n",
      "n_estimators : 20, learning_rate : 0.5, max_depth : 10, reg_alpha : 0.1\n",
      "[10:31:21] WARNING: D:\\bld\\xgboost-split_1637426510059\\work\\src\\learner.cc:1115: Starting in XGBoost 1.3.0, the default evaluation metric used with the objective 'binary:logistic' was changed from 'error' to 'logloss'. Explicitly set eval_metric if you'd like to restore the old behavior.\n",
      "Train Confusion Matrix\n",
      "[[740   0]\n",
      " [  0 730]]\n",
      "Train Acc : 1.0\n",
      "Test Confusion Matrix\n",
      "[[224  86]\n",
      " [ 57 264]]\n",
      "TesT Acc : 0.7733755942947702\n",
      "-----------------------------------------------------------------------\n",
      "-----------------------------------------------------------------------\n",
      ">>> 5 <<<\n",
      "n_estimators : 20, learning_rate : 0.5, max_depth : 10, reg_alpha : 1\n",
      "[10:31:21] WARNING: D:\\bld\\xgboost-split_1637426510059\\work\\src\\learner.cc:1115: Starting in XGBoost 1.3.0, the default evaluation metric used with the objective 'binary:logistic' was changed from 'error' to 'logloss'. Explicitly set eval_metric if you'd like to restore the old behavior.\n",
      "Train Confusion Matrix\n",
      "[[740   0]\n",
      " [  0 730]]\n",
      "Train Acc : 1.0\n",
      "Test Confusion Matrix\n",
      "[[224  86]\n",
      " [ 62 259]]\n",
      "TesT Acc : 0.7654516640253566\n",
      "-----------------------------------------------------------------------\n",
      "-----------------------------------------------------------------------\n",
      ">>> 6 <<<\n",
      "n_estimators : 20, learning_rate : 0.5, max_depth : 20, reg_alpha : 0.1\n",
      "[10:31:22] WARNING: D:\\bld\\xgboost-split_1637426510059\\work\\src\\learner.cc:1115: Starting in XGBoost 1.3.0, the default evaluation metric used with the objective 'binary:logistic' was changed from 'error' to 'logloss'. Explicitly set eval_metric if you'd like to restore the old behavior.\n",
      "Train Confusion Matrix\n",
      "[[740   0]\n",
      " [  0 730]]\n",
      "Train Acc : 1.0\n",
      "Test Confusion Matrix\n",
      "[[220  90]\n",
      " [ 52 269]]\n",
      "TesT Acc : 0.7749603803486529\n",
      "-----------------------------------------------------------------------\n",
      "-----------------------------------------------------------------------\n",
      ">>> 7 <<<\n",
      "n_estimators : 20, learning_rate : 0.5, max_depth : 20, reg_alpha : 1\n",
      "[10:31:23] WARNING: D:\\bld\\xgboost-split_1637426510059\\work\\src\\learner.cc:1115: Starting in XGBoost 1.3.0, the default evaluation metric used with the objective 'binary:logistic' was changed from 'error' to 'logloss'. Explicitly set eval_metric if you'd like to restore the old behavior.\n",
      "Train Confusion Matrix\n",
      "[[740   0]\n",
      " [  0 730]]\n",
      "Train Acc : 1.0\n",
      "Test Confusion Matrix\n",
      "[[224  86]\n",
      " [ 58 263]]\n",
      "TesT Acc : 0.7717908082408875\n",
      "-----------------------------------------------------------------------\n",
      "-----------------------------------------------------------------------\n",
      ">>> 8 <<<\n",
      "n_estimators : 50, learning_rate : 0.1, max_depth : 10, reg_alpha : 0.1\n",
      "[10:31:24] WARNING: D:\\bld\\xgboost-split_1637426510059\\work\\src\\learner.cc:1115: Starting in XGBoost 1.3.0, the default evaluation metric used with the objective 'binary:logistic' was changed from 'error' to 'logloss'. Explicitly set eval_metric if you'd like to restore the old behavior.\n",
      "Train Confusion Matrix\n",
      "[[740   0]\n",
      " [  0 730]]\n",
      "Train Acc : 1.0\n",
      "Test Confusion Matrix\n",
      "[[224  86]\n",
      " [ 47 274]]\n",
      "TesT Acc : 0.7892234548335975\n",
      "-----------------------------------------------------------------------\n",
      "-----------------------------------------------------------------------\n",
      ">>> 9 <<<\n",
      "n_estimators : 50, learning_rate : 0.1, max_depth : 10, reg_alpha : 1\n",
      "[10:31:26] WARNING: D:\\bld\\xgboost-split_1637426510059\\work\\src\\learner.cc:1115: Starting in XGBoost 1.3.0, the default evaluation metric used with the objective 'binary:logistic' was changed from 'error' to 'logloss'. Explicitly set eval_metric if you'd like to restore the old behavior.\n",
      "Train Confusion Matrix\n",
      "[[740   0]\n",
      " [  0 730]]\n",
      "Train Acc : 1.0\n",
      "Test Confusion Matrix\n",
      "[[228  82]\n",
      " [ 48 273]]\n",
      "TesT Acc : 0.7939778129952456\n",
      "-----------------------------------------------------------------------\n",
      "-----------------------------------------------------------------------\n",
      ">>> 10 <<<\n",
      "n_estimators : 50, learning_rate : 0.1, max_depth : 20, reg_alpha : 0.1\n",
      "[10:31:28] WARNING: D:\\bld\\xgboost-split_1637426510059\\work\\src\\learner.cc:1115: Starting in XGBoost 1.3.0, the default evaluation metric used with the objective 'binary:logistic' was changed from 'error' to 'logloss'. Explicitly set eval_metric if you'd like to restore the old behavior.\n",
      "Train Confusion Matrix\n",
      "[[740   0]\n",
      " [  0 730]]\n",
      "Train Acc : 1.0\n",
      "Test Confusion Matrix\n",
      "[[225  85]\n",
      " [ 48 273]]\n",
      "TesT Acc : 0.7892234548335975\n",
      "-----------------------------------------------------------------------\n",
      "-----------------------------------------------------------------------\n",
      ">>> 11 <<<\n",
      "n_estimators : 50, learning_rate : 0.1, max_depth : 20, reg_alpha : 1\n",
      "[10:31:29] WARNING: D:\\bld\\xgboost-split_1637426510059\\work\\src\\learner.cc:1115: Starting in XGBoost 1.3.0, the default evaluation metric used with the objective 'binary:logistic' was changed from 'error' to 'logloss'. Explicitly set eval_metric if you'd like to restore the old behavior.\n",
      "Train Confusion Matrix\n",
      "[[740   0]\n",
      " [  0 730]]\n",
      "Train Acc : 1.0\n",
      "Test Confusion Matrix\n",
      "[[225  85]\n",
      " [ 55 266]]\n",
      "TesT Acc : 0.7781299524564184\n",
      "-----------------------------------------------------------------------\n",
      "-----------------------------------------------------------------------\n",
      ">>> 12 <<<\n",
      "n_estimators : 50, learning_rate : 0.5, max_depth : 10, reg_alpha : 0.1\n",
      "[10:31:31] WARNING: D:\\bld\\xgboost-split_1637426510059\\work\\src\\learner.cc:1115: Starting in XGBoost 1.3.0, the default evaluation metric used with the objective 'binary:logistic' was changed from 'error' to 'logloss'. Explicitly set eval_metric if you'd like to restore the old behavior.\n",
      "Train Confusion Matrix\n",
      "[[740   0]\n",
      " [  0 730]]\n",
      "Train Acc : 1.0\n",
      "Test Confusion Matrix\n",
      "[[223  87]\n",
      " [ 59 262]]\n",
      "TesT Acc : 0.768621236133122\n",
      "-----------------------------------------------------------------------\n",
      "-----------------------------------------------------------------------\n",
      ">>> 13 <<<\n",
      "n_estimators : 50, learning_rate : 0.5, max_depth : 10, reg_alpha : 1\n",
      "[10:31:32] WARNING: D:\\bld\\xgboost-split_1637426510059\\work\\src\\learner.cc:1115: Starting in XGBoost 1.3.0, the default evaluation metric used with the objective 'binary:logistic' was changed from 'error' to 'logloss'. Explicitly set eval_metric if you'd like to restore the old behavior.\n",
      "Train Confusion Matrix\n",
      "[[740   0]\n",
      " [  0 730]]\n",
      "Train Acc : 1.0\n",
      "Test Confusion Matrix\n",
      "[[224  86]\n",
      " [ 57 264]]\n",
      "TesT Acc : 0.7733755942947702\n",
      "-----------------------------------------------------------------------\n",
      "-----------------------------------------------------------------------\n",
      ">>> 14 <<<\n",
      "n_estimators : 50, learning_rate : 0.5, max_depth : 20, reg_alpha : 0.1\n",
      "[10:31:33] WARNING: D:\\bld\\xgboost-split_1637426510059\\work\\src\\learner.cc:1115: Starting in XGBoost 1.3.0, the default evaluation metric used with the objective 'binary:logistic' was changed from 'error' to 'logloss'. Explicitly set eval_metric if you'd like to restore the old behavior.\n",
      "Train Confusion Matrix\n",
      "[[740   0]\n",
      " [  0 730]]\n",
      "Train Acc : 1.0\n",
      "Test Confusion Matrix\n",
      "[[223  87]\n",
      " [ 59 262]]\n",
      "TesT Acc : 0.768621236133122\n",
      "-----------------------------------------------------------------------\n",
      "-----------------------------------------------------------------------\n",
      ">>> 15 <<<\n",
      "n_estimators : 50, learning_rate : 0.5, max_depth : 20, reg_alpha : 1\n",
      "[10:31:35] WARNING: D:\\bld\\xgboost-split_1637426510059\\work\\src\\learner.cc:1115: Starting in XGBoost 1.3.0, the default evaluation metric used with the objective 'binary:logistic' was changed from 'error' to 'logloss'. Explicitly set eval_metric if you'd like to restore the old behavior.\n",
      "Train Confusion Matrix\n",
      "[[740   0]\n",
      " [  0 730]]\n",
      "Train Acc : 1.0\n",
      "Test Confusion Matrix\n",
      "[[226  84]\n",
      " [ 58 263]]\n",
      "TesT Acc : 0.7749603803486529\n",
      "-----------------------------------------------------------------------\n",
      "-----------------------------------------------------------------------\n",
      ">>> 16 <<<\n",
      "n_estimators : 100, learning_rate : 0.1, max_depth : 10, reg_alpha : 0.1\n",
      "[10:31:36] WARNING: D:\\bld\\xgboost-split_1637426510059\\work\\src\\learner.cc:1115: Starting in XGBoost 1.3.0, the default evaluation metric used with the objective 'binary:logistic' was changed from 'error' to 'logloss'. Explicitly set eval_metric if you'd like to restore the old behavior.\n",
      "Train Confusion Matrix\n",
      "[[740   0]\n",
      " [  0 730]]\n",
      "Train Acc : 1.0\n",
      "Test Confusion Matrix\n",
      "[[226  84]\n",
      " [ 54 267]]\n",
      "TesT Acc : 0.7812995245641838\n",
      "-----------------------------------------------------------------------\n",
      "-----------------------------------------------------------------------\n",
      ">>> 17 <<<\n",
      "n_estimators : 100, learning_rate : 0.1, max_depth : 10, reg_alpha : 1\n",
      "[10:31:38] WARNING: D:\\bld\\xgboost-split_1637426510059\\work\\src\\learner.cc:1115: Starting in XGBoost 1.3.0, the default evaluation metric used with the objective 'binary:logistic' was changed from 'error' to 'logloss'. Explicitly set eval_metric if you'd like to restore the old behavior.\n",
      "Train Confusion Matrix\n",
      "[[740   0]\n",
      " [  0 730]]\n",
      "Train Acc : 1.0\n",
      "Test Confusion Matrix\n",
      "[[224  86]\n",
      " [ 48 273]]\n",
      "TesT Acc : 0.7876386687797148\n",
      "-----------------------------------------------------------------------\n",
      "-----------------------------------------------------------------------\n",
      ">>> 18 <<<\n",
      "n_estimators : 100, learning_rate : 0.1, max_depth : 20, reg_alpha : 0.1\n",
      "[10:31:41] WARNING: D:\\bld\\xgboost-split_1637426510059\\work\\src\\learner.cc:1115: Starting in XGBoost 1.3.0, the default evaluation metric used with the objective 'binary:logistic' was changed from 'error' to 'logloss'. Explicitly set eval_metric if you'd like to restore the old behavior.\n",
      "Train Confusion Matrix\n",
      "[[740   0]\n",
      " [  0 730]]\n",
      "Train Acc : 1.0\n",
      "Test Confusion Matrix\n",
      "[[224  86]\n",
      " [ 49 272]]\n",
      "TesT Acc : 0.786053882725832\n",
      "-----------------------------------------------------------------------\n",
      "-----------------------------------------------------------------------\n",
      ">>> 19 <<<\n",
      "n_estimators : 100, learning_rate : 0.1, max_depth : 20, reg_alpha : 1\n",
      "[10:31:44] WARNING: D:\\bld\\xgboost-split_1637426510059\\work\\src\\learner.cc:1115: Starting in XGBoost 1.3.0, the default evaluation metric used with the objective 'binary:logistic' was changed from 'error' to 'logloss'. Explicitly set eval_metric if you'd like to restore the old behavior.\n",
      "Train Confusion Matrix\n",
      "[[740   0]\n",
      " [  0 730]]\n",
      "Train Acc : 1.0\n",
      "Test Confusion Matrix\n",
      "[[230  80]\n",
      " [ 55 266]]\n",
      "TesT Acc : 0.786053882725832\n",
      "-----------------------------------------------------------------------\n",
      "-----------------------------------------------------------------------\n",
      ">>> 20 <<<\n",
      "n_estimators : 100, learning_rate : 0.5, max_depth : 10, reg_alpha : 0.1\n",
      "[10:31:47] WARNING: D:\\bld\\xgboost-split_1637426510059\\work\\src\\learner.cc:1115: Starting in XGBoost 1.3.0, the default evaluation metric used with the objective 'binary:logistic' was changed from 'error' to 'logloss'. Explicitly set eval_metric if you'd like to restore the old behavior.\n",
      "Train Confusion Matrix\n",
      "[[740   0]\n",
      " [  0 730]]\n",
      "Train Acc : 1.0\n",
      "Test Confusion Matrix\n",
      "[[224  86]\n",
      " [ 58 263]]\n",
      "TesT Acc : 0.7717908082408875\n",
      "-----------------------------------------------------------------------\n",
      "-----------------------------------------------------------------------\n",
      ">>> 21 <<<\n",
      "n_estimators : 100, learning_rate : 0.5, max_depth : 10, reg_alpha : 1\n",
      "[10:31:48] WARNING: D:\\bld\\xgboost-split_1637426510059\\work\\src\\learner.cc:1115: Starting in XGBoost 1.3.0, the default evaluation metric used with the objective 'binary:logistic' was changed from 'error' to 'logloss'. Explicitly set eval_metric if you'd like to restore the old behavior.\n",
      "Train Confusion Matrix\n",
      "[[740   0]\n",
      " [  0 730]]\n",
      "Train Acc : 1.0\n",
      "Test Confusion Matrix\n",
      "[[224  86]\n",
      " [ 57 264]]\n",
      "TesT Acc : 0.7733755942947702\n",
      "-----------------------------------------------------------------------\n",
      "-----------------------------------------------------------------------\n",
      ">>> 22 <<<\n",
      "n_estimators : 100, learning_rate : 0.5, max_depth : 20, reg_alpha : 0.1\n",
      "[10:31:50] WARNING: D:\\bld\\xgboost-split_1637426510059\\work\\src\\learner.cc:1115: Starting in XGBoost 1.3.0, the default evaluation metric used with the objective 'binary:logistic' was changed from 'error' to 'logloss'. Explicitly set eval_metric if you'd like to restore the old behavior.\n",
      "Train Confusion Matrix\n",
      "[[740   0]\n",
      " [  0 730]]\n",
      "Train Acc : 1.0\n",
      "Test Confusion Matrix\n",
      "[[225  85]\n",
      " [ 60 261]]\n",
      "TesT Acc : 0.7702060221870047\n",
      "-----------------------------------------------------------------------\n",
      "-----------------------------------------------------------------------\n",
      ">>> 23 <<<\n",
      "n_estimators : 100, learning_rate : 0.5, max_depth : 20, reg_alpha : 1\n",
      "[10:31:51] WARNING: D:\\bld\\xgboost-split_1637426510059\\work\\src\\learner.cc:1115: Starting in XGBoost 1.3.0, the default evaluation metric used with the objective 'binary:logistic' was changed from 'error' to 'logloss'. Explicitly set eval_metric if you'd like to restore the old behavior.\n",
      "Train Confusion Matrix\n",
      "[[740   0]\n",
      " [  0 730]]\n",
      "Train Acc : 1.0\n",
      "Test Confusion Matrix\n",
      "[[226  84]\n",
      " [ 58 263]]\n",
      "TesT Acc : 0.7749603803486529\n",
      "-----------------------------------------------------------------------\n",
      "-----------------------------------------------------------------------\n"
     ]
    }
   ],
   "source": [
    "# Parameter Tuning - Reference : https://www.analyticsvidhya.com/blog/2016/03/complete-guide-parameter-tuning-xgboost-with-codes-python/\n",
    "\n",
    "# n_estimators\n",
    "n_tree = [20, 50, 100]\n",
    "# learning_rate\n",
    "l_rate = [0.1, 0.5]\n",
    "# max_depth\n",
    "m_depth = [10, 20]\n",
    "# reg_alpha\n",
    "L1_norm = [0.1, 1]\n",
    "\n",
    "# Modeling\n",
    "save_n = []\n",
    "save_l = []\n",
    "save_m = []\n",
    "save_L1 = []\n",
    "save_acc = []\n",
    "\n",
    "cnt = 0\n",
    "\n",
    "for n in n_tree:\n",
    "    for l in l_rate:\n",
    "        for m in m_depth:\n",
    "            for L1 in L1_norm:\n",
    "                \n",
    "                print(\">>> {} <<<\".format(cnt))\n",
    "                cnt +=1\n",
    "                print(\"n_estimators : {}, learning_rate : {}, max_depth : {}, reg_alpha : {}\".format(n, l, m, L1))\n",
    "                model = XGBClassifier(n_estimators=n, learning_rate=l, \n",
    "                                      max_depth=m, reg_alpha=L1, \n",
    "                                      n_jobs=-1, objective='binary:logistic')\n",
    "                model.fit(X.iloc[train_idx], Y.iloc[train_idx])\n",
    "                \n",
    "                \n",
    "                # Train Acc\n",
    "                y_pre_train = model.predict(X.iloc[train_idx])\n",
    "                cm_train = confusion_matrix(Y.iloc[train_idx], y_pre_train)\n",
    "                print(\"Train Confusion Matrix\")\n",
    "                print(cm_train)\n",
    "                print(\"Train Acc : {}\".format((cm_train[0,0] + cm_train[1,1])/cm_train.sum()))\n",
    "\n",
    "                # Test Acc\n",
    "                y_pre_test = model.predict(X.iloc[valid_idx])\n",
    "                cm_test = confusion_matrix(Y.iloc[valid_idx], y_pre_test)\n",
    "                print(\"Test Confusion Matrix\")\n",
    "                print(cm_test)\n",
    "                print(\"TesT Acc : {}\".format((cm_test[0,0] + cm_test[1,1])/cm_test.sum()))\n",
    "                print(\"-----------------------------------------------------------------------\")\n",
    "                print(\"-----------------------------------------------------------------------\")\n",
    "                save_n.append(n)\n",
    "                save_l.append(l)\n",
    "                save_m.append(m)\n",
    "                save_L1.append(L1)\n",
    "                save_acc.append((cm_test[0,0] + cm_test[1,1])/cm_test.sum())\n",
    "                \n",
    "                joblib.dump(model, './XGBoost_model/Result_{}_{}_{}_{}_{}.pkl'.format(n, l, m, L1, round(save_acc[-1], 4)))\n",
    "                gc.collect()"
   ]
  },
  {
   "cell_type": "code",
   "execution_count": 15,
   "id": "83e02547-30c1-46d5-95e5-61810f6b9624",
   "metadata": {},
   "outputs": [
    {
     "name": "stdout",
     "output_type": "stream",
     "text": [
      ">>> 9 <<<\n",
      "Best Test Acc : 0.7939778129952456\n",
      "Best n_estimators : 50\n",
      "Best Learning Rate : 0.1\n",
      "Best Max_Depth : 10\n",
      "Best L1-norm term : 1\n"
     ]
    }
   ],
   "source": [
    "print(\">>> {} <<<\\nBest Test Acc : {}\\nBest n_estimators : {}\\nBest Learning Rate : {}\\nBest Max_Depth : {}\\nBest L1-norm term : {}\".format(np.argmax(save_acc),\n",
    "                                                                                                                                            save_acc[np.argmax(save_acc)], \n",
    "                                                                                                                                            save_n[np.argmax(save_acc)],\n",
    "                                                                                                                                            save_l[np.argmax(save_acc)],\n",
    "                                                                                                                                            save_m[np.argmax(save_acc)],\n",
    "                                                                                                                                            save_L1[np.argmax(save_acc)]))"
   ]
  },
  {
   "cell_type": "code",
   "execution_count": 17,
   "id": "91f9c509-c16d-44d6-9187-7e690b99cffc",
   "metadata": {},
   "outputs": [],
   "source": [
    "# Best Model Loading\n",
    "model = joblib.load(\"./XGBoost_model/Result_{}_{}_{}_{}_{}.pkl\".format(save_n[np.argmax(save_acc)],\n",
    "                                                                       save_l[np.argmax(save_acc)],\n",
    "                                                                       save_m[np.argmax(save_acc)],\n",
    "                                                                       save_L1[np.argmax(save_acc)],\n",
    "                                                                       round(save_acc[np.argmax(save_acc)], 4)))\n",
    " "
   ]
  },
  {
   "cell_type": "code",
   "execution_count": 19,
   "id": "be027725-4932-439f-8fb2-343147ba7f2e",
   "metadata": {},
   "outputs": [
    {
     "name": "stdout",
     "output_type": "stream",
     "text": [
      "       Score Feature\n",
      "0   0.060312     X23\n",
      "1   0.012785     X67\n",
      "2   0.012539     X30\n",
      "3   0.011884    X163\n",
      "4   0.010232    X173\n",
      "5   0.010038     X90\n",
      "6   0.009668    X154\n",
      "7   0.009376    X264\n",
      "8   0.009150    X304\n",
      "9   0.008459     X49\n",
      "10  0.008136    X171\n",
      "11  0.007826    X135\n",
      "12  0.007750    X296\n",
      "13  0.007734     X77\n",
      "14  0.007691    X191\n",
      "15  0.007648    X168\n",
      "16  0.007411     X22\n",
      "17  0.007403    X254\n",
      "18  0.007161    X291\n",
      "19  0.006928     X27\n"
     ]
    }
   ],
   "source": [
    "feature_map = pd.DataFrame(sorted(zip(model.feature_importances_, X.columns), reverse=True), columns=['Score', 'Feature'])[:20]\n",
    "print(feature_map)"
   ]
  },
  {
   "cell_type": "code",
   "execution_count": 20,
   "id": "31f0dd9e-8c0f-4b5c-bbdd-b4ae8507c9de",
   "metadata": {},
   "outputs": [
    {
     "data": {
      "image/png": "[encoded data removed]",
      "text/plain": [
       "<Figure size 1440x720 with 1 Axes>"
      ]
     },
     "metadata": {
      "needs_background": "light"
     },
     "output_type": "display_data"
    }
   ],
   "source": [
    "plt.figure(figsize=(20, 10))\n",
    "sns.barplot(x=\"Score\", y=\"Feature\", data=feature_map.sort_values(by=\"Score\", ascending=False), errwidth=40)\n",
    "plt.title('XGBoost Importance Features')\n",
    "plt.tight_layout()\n",
    "plt.show()"
   ]
  }
 ],
 "metadata": {
  "kernelspec": {
   "display_name": "Python 3 (ipykernel)",
   "language": "python",
   "name": "python3"
  },
  "language_info": {
   "codemirror_mode": {
    "name": "ipython",
    "version": 3
   },
   "file_extension": ".py",
   "mimetype": "text/x-python",
   "name": "python",
   "nbconvert_exporter": "python",
   "pygments_lexer": "ipython3",
   "version": "3.7.11"
  }
 },
 "nbformat": 4,
 "nbformat_minor": 5
}
