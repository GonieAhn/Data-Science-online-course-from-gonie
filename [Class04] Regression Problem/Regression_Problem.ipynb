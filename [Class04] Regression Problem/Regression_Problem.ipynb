{
 "cells": [
  {
   "cell_type": "markdown",
   "id": "84984c97-53d5-4f9e-b07e-bd9b84aeb399",
   "metadata": {
    "tags": []
   },
   "source": [
    "# Linear Regression Problem Code Tutorial\n",
    "\n",
    "<b><u>[목적]</u></b>\n",
    "- 단순 Linear Regression을 활용하여 변수의 중요도 및 방향성을 알아봄\n",
    "- 매우 심플한 모델이기 때문에 사이즈가 큰 데이터에 적합하지 않음\n",
    "- 하지만 설명력에서는 큰 장점이 있음\n",
    "\n",
    "<b><u>[Process]</u></b>\n",
    "- Data Path = 'https://github.com/GonieAhn/Data-Science-online-course-from-gonie/tree/main/Data%20Store'\n",
    "- Define X's & Y\n",
    "- Split Train & Valid data set\n",
    "- Modeling\n",
    "- 해석\n",
    "\n",
    "<b><u>[고민 Points]</u></b>\n",
    "- scaling이 필요한가?"
   ]
  },
  {
   "cell_type": "code",
   "execution_count": 1,
   "id": "6d0f19ac-c844-46f7-82be-05e95480a456",
   "metadata": {},
   "outputs": [],
   "source": [
    "import os\n",
    "import gc\n",
    "import pickle\n",
    "import numpy as np\n",
    "import pandas as pd\n",
    "\n",
    "import warnings\n",
    "warnings.filterwarnings(\"ignore\")\n",
    "\n",
    "from collections import Counter\n",
    "from sklearn.model_selection import train_test_split\n",
    "from sklearn.linear_model import LinearRegression\n",
    "from sklearn.preprocessing import MinMaxScaler\n",
    "from regressors import stats"
   ]
  },
  {
   "cell_type": "code",
   "execution_count": 2,
   "id": "4919d86b-f1e8-458a-96c8-f9363822d41b",
   "metadata": {
    "tags": []
   },
   "outputs": [
    {
     "name": "stdout",
     "output_type": "stream",
     "text": [
      ">>>> Data Shape : (3500, 357)\n",
      "Wall time: 232 ms\n"
     ]
    }
   ],
   "source": [
    "%%time\n",
    "# Data Load \n",
    "data = pd.read_csv(\"../Data Store/TOY_DATA.csv\")\n",
    "print(\">>>> Data Shape : {}\".format(data.shape))"
   ]
  },
  {
   "cell_type": "code",
   "execution_count": 3,
   "id": "c0ec9104-2a7a-4648-9acd-8d22d90caa1a",
   "metadata": {},
   "outputs": [
    {
     "name": "stdout",
     "output_type": "stream",
     "text": [
      ">>>> Data Shape : (3500, 356)\n"
     ]
    }
   ],
   "source": [
    "# Drop Unnamed:0 Columns\n",
    "data.drop(columns=['Unnamed: 0'], inplace=True)\n",
    "data.reset_index(inplace=True, drop=True)\n",
    "print(\">>>> Data Shape : {}\".format(data.shape))"
   ]
  },
  {
   "cell_type": "markdown",
   "id": "ecf4f6f2-6986-404f-bcfb-012fbb8290ed",
   "metadata": {},
   "source": [
    "<b><u>[Data Selection]</u></b>\n",
    "- Linear Regression의 경우 심플한 모델이기 때문에 변수를 Domain을 바탕으로 변수를 추출하여 분석을 진행함"
   ]
  },
  {
   "cell_type": "code",
   "execution_count": 4,
   "id": "6928a6f8-201b-4344-a4ee-895e68ef5716",
   "metadata": {},
   "outputs": [
    {
     "name": "stdout",
     "output_type": "stream",
     "text": [
      "Data Shape : (3500, 4)\n"
     ]
    }
   ],
   "source": [
    "# Feature Selection\n",
    "selc_col = ['Y', 'X1', 'X2', 'X3']\n",
    "data = data[selc_col]\n",
    "# Missing value dropping\n",
    "data.dropna(inplace=True)\n",
    "data.reset_index(inplace=True, drop=True)\n",
    "print(\"Data Shape : {}\".format(data.shape))"
   ]
  },
  {
   "cell_type": "code",
   "execution_count": 5,
   "id": "7ab9f4fc-c864-495f-ad71-235cb4595def",
   "metadata": {},
   "outputs": [],
   "source": [
    "# Define X's and Y\n",
    "Y = data['Y']\n",
    "X = data.drop(columns=['Y']) "
   ]
  },
  {
   "cell_type": "markdown",
   "id": "377db001-0ce8-4f71-8da6-f7602b94c78f",
   "metadata": {},
   "source": [
    "<b><u>[Data Split]</u></b>\n",
    "- Data Split을 진행할 때 BigData의 경우 꼭 indexing을 추출하여 모델에 적용시켜야 함\n",
    "- 이유는 Data Split하여 새로운 Data set을 만들 경우 메모리에 부담을 주기 때문"
   ]
  },
  {
   "cell_type": "code",
   "execution_count": 6,
   "id": "73c45d66-cd3e-4e1e-93c9-7b80840b3a08",
   "metadata": {},
   "outputs": [
    {
     "name": "stdout",
     "output_type": "stream",
     "text": [
      ">>>> # of Train data : 2450\n",
      ">>>> # of valid data : 1050\n"
     ]
    }
   ],
   "source": [
    "# Indexing Split for memory management\n",
    "idx = list(range(X.shape[0]))\n",
    "train_idx, valid_idx = train_test_split(idx, test_size=0.3, random_state=2021)\n",
    "print(\">>>> # of Train data : {}\".format(len(train_idx)))\n",
    "print(\">>>> # of valid data : {}\".format(len(valid_idx)))"
   ]
  },
  {
   "cell_type": "code",
   "execution_count": 7,
   "id": "97f855cb-5f20-48f0-9903-255251478074",
   "metadata": {},
   "outputs": [
    {
     "data": {
      "text/html": [
       "<div>\n",
       "<style scoped>\n",
       "    .dataframe tbody tr th:only-of-type {\n",
       "        vertical-align: middle;\n",
       "    }\n",
       "\n",
       "    .dataframe tbody tr th {\n",
       "        vertical-align: top;\n",
       "    }\n",
       "\n",
       "    .dataframe thead th {\n",
       "        text-align: right;\n",
       "    }\n",
       "</style>\n",
       "<table border=\"1\" class=\"dataframe\">\n",
       "  <thead>\n",
       "    <tr style=\"text-align: right;\">\n",
       "      <th></th>\n",
       "      <th>Y</th>\n",
       "      <th>X1</th>\n",
       "      <th>X2</th>\n",
       "      <th>X3</th>\n",
       "    </tr>\n",
       "  </thead>\n",
       "  <tbody>\n",
       "    <tr>\n",
       "      <th>count</th>\n",
       "      <td>3500.000000</td>\n",
       "      <td>3500.000000</td>\n",
       "      <td>3500.000000</td>\n",
       "      <td>3500.000000</td>\n",
       "    </tr>\n",
       "    <tr>\n",
       "      <th>mean</th>\n",
       "      <td>0.765216</td>\n",
       "      <td>84.757693</td>\n",
       "      <td>11.058408</td>\n",
       "      <td>0.705708</td>\n",
       "    </tr>\n",
       "    <tr>\n",
       "      <th>std</th>\n",
       "      <td>0.103392</td>\n",
       "      <td>0.351666</td>\n",
       "      <td>0.040699</td>\n",
       "      <td>0.002689</td>\n",
       "    </tr>\n",
       "    <tr>\n",
       "      <th>min</th>\n",
       "      <td>0.000000</td>\n",
       "      <td>81.661900</td>\n",
       "      <td>10.791300</td>\n",
       "      <td>0.684082</td>\n",
       "    </tr>\n",
       "    <tr>\n",
       "      <th>25%</th>\n",
       "      <td>0.712546</td>\n",
       "      <td>84.561100</td>\n",
       "      <td>11.032575</td>\n",
       "      <td>0.704376</td>\n",
       "    </tr>\n",
       "    <tr>\n",
       "      <th>50%</th>\n",
       "      <td>0.777598</td>\n",
       "      <td>84.783400</td>\n",
       "      <td>11.060500</td>\n",
       "      <td>0.705982</td>\n",
       "    </tr>\n",
       "    <tr>\n",
       "      <th>75%</th>\n",
       "      <td>0.834474</td>\n",
       "      <td>85.001150</td>\n",
       "      <td>11.086100</td>\n",
       "      <td>0.707514</td>\n",
       "    </tr>\n",
       "    <tr>\n",
       "      <th>max</th>\n",
       "      <td>1.000000</td>\n",
       "      <td>85.745600</td>\n",
       "      <td>11.161800</td>\n",
       "      <td>0.712631</td>\n",
       "    </tr>\n",
       "  </tbody>\n",
       "</table>\n",
       "</div>"
      ],
      "text/plain": [
       "                 Y           X1           X2           X3\n",
       "count  3500.000000  3500.000000  3500.000000  3500.000000\n",
       "mean      0.765216    84.757693    11.058408     0.705708\n",
       "std       0.103392     0.351666     0.040699     0.002689\n",
       "min       0.000000    81.661900    10.791300     0.684082\n",
       "25%       0.712546    84.561100    11.032575     0.704376\n",
       "50%       0.777598    84.783400    11.060500     0.705982\n",
       "75%       0.834474    85.001150    11.086100     0.707514\n",
       "max       1.000000    85.745600    11.161800     0.712631"
      ]
     },
     "execution_count": 7,
     "metadata": {},
     "output_type": "execute_result"
    }
   ],
   "source": [
    "# Data 설명\n",
    "data.describe()"
   ]
  },
  {
   "cell_type": "markdown",
   "id": "798e630e-e462-4d6c-a694-347fa72dbdf4",
   "metadata": {},
   "source": [
    "<b><u>[X's Scaling(X) & 결과 해석]</u></b>\n",
    "- Validation Data Set에 대해 R-squared가 0.99이기 때문에 잘 구축된 모델임 (아래 Cell의 표)\n",
    "- X1의 Estimate(Coefficient)가 0.175임 X1를 1단위 증가시켰을 때 Y가 0.175 증가한다는 의미임\n",
    "- X1, X2, X3의 Estimate(Coefficient)의 단위가 다른이유는 변수들간 Scale이 다르기 때문임\n",
    "- 따라서 변수 랭킹을 따지기는 어려움"
   ]
  },
  {
   "cell_type": "code",
   "execution_count": 8,
   "id": "77de5108-b899-424a-b4ce-19390ed11a1c",
   "metadata": {},
   "outputs": [
    {
     "name": "stdout",
     "output_type": "stream",
     "text": [
      "Residuals:\n",
      "    Min      1Q  Median     3Q    Max\n",
      "-0.0082 -0.0002     0.0 0.0002 0.0024\n",
      "\n",
      "\n",
      "Coefficients:\n",
      "             Estimate  Std. Error     t value  p value\n",
      "_intercept -43.786227    0.008074  -5422.7829      0.0\n",
      "X1           0.175347    0.000005  38893.8624      0.0\n",
      "X2           1.343589    0.000262   5118.6526      0.0\n",
      "X3          21.016459    0.007953   2642.7444      0.0\n",
      "---\n",
      "R-squared:  0.99997,    Adjusted R-squared:  0.99997\n",
      "F-statistic: 13365715.16 on 3 features\n"
     ]
    }
   ],
   "source": [
    "# Linear Regression\n",
    "results = LinearRegression().fit(X.iloc[train_idx], Y.iloc[train_idx])\n",
    "stats.summary(results, X.iloc[valid_idx], Y.iloc[valid_idx], xlabels=list(X.columns)) "
   ]
  },
  {
   "cell_type": "code",
   "execution_count": 9,
   "id": "a2ae30d3-2d11-4048-ae2f-fd46d7d279cd",
   "metadata": {},
   "outputs": [
    {
     "name": "stdout",
     "output_type": "stream",
     "text": [
      "0.0005595926646214808\n"
     ]
    }
   ],
   "source": [
    "# RMSE 계산\n",
    "pred_y = results.predict(X.iloc[valid_idx])\n",
    "RMSE = np.sqrt(np.mean((pred_y - Y.iloc[valid_idx])**2))\n",
    "print(RMSE)"
   ]
  },
  {
   "cell_type": "markdown",
   "id": "95f97123-7e3c-4b5d-9a60-d94d846bfb09",
   "metadata": {},
   "source": [
    "<b><n>[X's Scaling(O) & 결과 해석]</n></b>\n",
    "- Validation Data Set에 대해 R-squared가 0.99이기 때문에 잘 구축된 모델임 (아래 Cell의 표)\n",
    "- X1의 Estimate(Coefficient)가 0.569임\n",
    "    - X1를 1단위 증가시켰을 때 Y가 0.569 증가한다는 의미라고 판단할 수 없음\n",
    "    - 이유는 Scaling을 진행 했기 때문임\n",
    "- 하지만 변수들간 중요도 랭킹은 세울수 있음 (Scaling을 했기 때문에)\n",
    "    - Top1 - X3\n",
    "    - Top2 - X1\n",
    "    - Top3 - X2"
   ]
  },
  {
   "cell_type": "code",
   "execution_count": 10,
   "id": "383b042f-c430-4aa9-b7d2-476bfa2f24b4",
   "metadata": {},
   "outputs": [],
   "source": [
    "# Scaling\n",
    "scaler = MinMaxScaler().fit(X.iloc[train_idx])\n",
    "X_scal = scaler.transform(X)\n",
    "X_scal = pd.DataFrame(X_scal, columns=X.columns)"
   ]
  },
  {
   "cell_type": "code",
   "execution_count": 11,
   "id": "b29b20a0-bdb9-468f-8642-18c0838ac73e",
   "metadata": {},
   "outputs": [
    {
     "name": "stdout",
     "output_type": "stream",
     "text": [
      "Residuals:\n",
      "    Min      1Q  Median     3Q    Max\n",
      "-0.0082 -0.0002     0.0 0.0002 0.0024\n",
      "\n",
      "\n",
      "Coefficients:\n",
      "            Estimate  Std. Error    t value  p value\n",
      "_intercept -0.444687    0.000162 -2750.3142      0.0\n",
      "X1          0.569737    0.000165  3461.5895      0.0\n",
      "X2          0.497800    0.000174  2868.7659      0.0\n",
      "X3          0.599999    0.000199  3014.6263      0.0\n",
      "---\n",
      "R-squared:  0.99997,    Adjusted R-squared:  0.99997\n",
      "F-statistic: 13365715.16 on 3 features\n"
     ]
    }
   ],
   "source": [
    "# Linear Regression\n",
    "results = LinearRegression().fit(X_scal.iloc[train_idx], Y.iloc[train_idx])\n",
    "stats.summary(results, X_scal.iloc[valid_idx], Y.iloc[valid_idx], xlabels=list(X_scal.columns))"
   ]
  },
  {
   "cell_type": "code",
   "execution_count": 12,
   "id": "4b61ece6-34c6-43b6-a127-47d425d8d7a2",
   "metadata": {},
   "outputs": [
    {
     "name": "stdout",
     "output_type": "stream",
     "text": [
      "0.0005595926646210362\n"
     ]
    }
   ],
   "source": [
    "# RMSE 계산\n",
    "pred_y = results.predict(X_scal.iloc[valid_idx])\n",
    "RMSE = np.sqrt(np.mean((pred_y - Y.iloc[valid_idx])**2))\n",
    "print(RMSE)"
   ]
  },
  {
   "cell_type": "markdown",
   "id": "d7d4b448-7ee6-453f-bf01-0c0173adfd95",
   "metadata": {},
   "source": [
    "<b><n>[Regressors package install error]</n></b>\n",
    "- Regressors의 Package는 conda에서 지원하지 않음\n",
    "- https://pypi.org/project/regressors/#files\n",
    "    - .gz 파일을 다운로드 함\n",
    "- anaconda prom 키고 cd를 통해 .gz 파일 다운로드한 폴더로 이동\n",
    "    - tar xvzf regressors.x.x.x.tar.gz 명령어를 통하여 압축 해제\n",
    "    - cd regressors.x.x.x 명령어를 통하여 압축 해제한 파일로 들어감\n",
    "    - python setup.py install 명령어로 직접 설치해줌\n",
    "        - 주의: 여기서 \"use_2to3 is invalid\" 라는 에러 뜨면 아래와 같이 해결\n",
    "            - setup.py 파일을 메모장으로 열기\n",
    "            - \"use_2to3=True\" --> \"use_2to3=False\"로 변경한 후 저장\n",
    "            - 다시 설치 하면 됨"
   ]
  }
 ],
 "metadata": {
  "kernelspec": {
   "display_name": "Python 3 (ipykernel)",
   "language": "python",
   "name": "python3"
  },
  "language_info": {
   "codemirror_mode": {
    "name": "ipython",
    "version": 3
   },
   "file_extension": ".py",
   "mimetype": "text/x-python",
   "name": "python",
   "nbconvert_exporter": "python",
   "pygments_lexer": "ipython3",
   "version": "3.7.11"
  }
 },
 "nbformat": 4,
 "nbformat_minor": 5
}
