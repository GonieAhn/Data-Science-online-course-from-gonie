{
 "cells": [
  {
   "cell_type": "markdown",
   "id": "ea6ac724-4037-45f6-8103-48c3f1219b52",
   "metadata": {},
   "source": [
    "# Ensemble Learning Code Tutorial\n",
    "\n",
    "<b><u>[목적]</u></b>\n",
    "- Variance를 낮추기위한 Bagging의 대표적인 모델 RandomForest를 돌려봄\n",
    "- Bias를 낮추기위한 Boosting의 대표적인 모델 Adaboost를 돌려봄\n",
    "- 모델이 복잡해 짐에 따라 설명력이 떨어짐\n",
    "\n",
    "<b><u>[Process]</u></b>\n",
    "- Data Path = 'https://github.com/GonieAhn/Data-Science-online-course-from-gonie/tree/main/Data%20Store'•Define X's & Y\n",
    "- Transform Y (Numeric --> Category)\n",
    "- Split Train & Valid data set\n",
    "- Modeling\n",
    "    - 주의\n",
    "        - Ensemble Learning은 Random성이 많이 들어가기 때문에 같은 결과를 도출하려면 Seed 고정을 해주어야 함\n",
    "        - 예를 들어, Data Sampling 혹은 Feature Sampling을 할때 Random Seed를 고정해야 같은 결과를 도출할 수 있음\n",
    "- 해석"
   ]
  },
  {
   "cell_type": "code",
   "execution_count": 1,
   "id": "18c09e45-46c2-40ca-88d6-83604e52cb41",
   "metadata": {},
   "outputs": [],
   "source": [
    "import os\n",
    "import gc\n",
    "import pickle\n",
    "import pandas as pd\n",
    "import matplotlib.pyplot as plt\n",
    "import numpy as np\n",
    "import seaborn as sns\n",
    "\n",
    "import warnings\n",
    "warnings.filterwarnings(\"ignore\")\n",
    "\n",
    "from sklearn.model_selection import train_test_split\n",
    "from sklearn.metrics import confusion_matrix\n",
    "from sklearn.ensemble import RandomForestClassifier, AdaBoostClassifier\n",
    "from collections import Counter"
   ]
  },
  {
   "cell_type": "code",
   "execution_count": 3,
   "id": "76f8f69a-8f65-421c-a5c9-1bd13267fe8e",
   "metadata": {},
   "outputs": [
    {
     "name": "stdout",
     "output_type": "stream",
     "text": [
      ">>>> Data Shape : (3500, 357)\n",
      "Wall time: 233 ms\n"
     ]
    }
   ],
   "source": [
    "%%time\n",
    "# Data Load \n",
    "data = pd.read_csv(\"../Data Store/TOY_DATA.csv\")\n",
    "print(\">>>> Data Shape : {}\".format(data.shape))"
   ]
  },
  {
   "cell_type": "markdown",
   "id": "064412ff-faf5-4084-8e71-af19ea34a435",
   "metadata": {},
   "source": [
    "<b><u>[Data Cleaning & Change Regression P to Classification P]</u></b>\n",
    "- Data Cleaning 진행\n",
    "- Regression Problem ==> Classification Problem 상위 30% [Class 1]과 하위 30% [Class 0]\n",
    "    - 이렇게 하는 이유는 결국 우리는 상위 n%와 하위 n%의 차이를 알고 싶은 것\n",
    "    - 복잡한 Regression 문제보다 1 또는 0을 마추는 Classification Problem으로 전환해보자\n",
    "    - 그리고 상위 n%가 나오는 Rule을 도출해보자 (해석력을 얻기 위함)\n",
    "    - 이렇게 할 경우 데이터 손실이 있기 때문에 데이터가 많은 경우 써먹어보자"
   ]
  },
  {
   "cell_type": "code",
   "execution_count": 5,
   "id": "3fae3632-b507-4cf6-86aa-c87c1abae0c3",
   "metadata": {},
   "outputs": [
    {
     "name": "stdout",
     "output_type": "stream",
     "text": [
      "Data Shape : (3500, 357)\n"
     ]
    }
   ],
   "source": [
    "data.dropna(inplace=True)\n",
    "data.reset_index(inplace=True, drop=True)\n",
    "print(\"Data Shape : {}\".format(data.shape))"
   ]
  },
  {
   "cell_type": "code",
   "execution_count": 7,
   "id": "24ab2a22-0b4f-4f5d-bad2-4ced554fd971",
   "metadata": {},
   "outputs": [
    {
     "name": "stdout",
     "output_type": "stream",
     "text": [
      ">>>> 70 Percentile : 0.821760391\n",
      ">>>> 30 Percentile : 0.7269621028\n"
     ]
    }
   ],
   "source": [
    "per_70 = np.percentile(data['Y'], 70)\n",
    "per_30 = np.percentile(data['Y'], 30)\n",
    "print(\">>>> 70 Percentile : {}\".format(per_70))\n",
    "print(\">>>> 30 Percentile : {}\".format(per_30))"
   ]
  },
  {
   "cell_type": "code",
   "execution_count": 8,
   "id": "6ecce43e-bb81-496c-a1d3-6ea798a0f42e",
   "metadata": {},
   "outputs": [
    {
     "name": "stdout",
     "output_type": "stream",
     "text": [
      "Data shape : (2101, 357)\n"
     ]
    }
   ],
   "source": [
    "data = data[(data['Y'] >= per_70) | (data['Y'] <= per_30)]\n",
    "data.reset_index(inplace=True, drop=True)\n",
    "print('Data shape : {}'.format(data.shape))"
   ]
  },
  {
   "cell_type": "code",
   "execution_count": 9,
   "id": "8f758764-d857-49dd-a10a-a5b4c1a809fb",
   "metadata": {},
   "outputs": [
    {
     "name": "stdout",
     "output_type": "stream",
     "text": [
      "Unique Label : {0, 1}\n"
     ]
    }
   ],
   "source": [
    "data['Label'] = 3\n",
    "data['Label'].iloc[np.where(data['Y'] >= per_70)[0]] = 1\n",
    "data['Label'].iloc[np.where(data['Y'] <= per_30)[0]] = 0\n",
    "print(\"Unique Label : {}\".format(set(data['Label'])))"
   ]
  },
  {
   "cell_type": "code",
   "execution_count": 10,
   "id": "965ad632-38f3-4b52-8823-fbb6f2f50a68",
   "metadata": {},
   "outputs": [
    {
     "data": {
      "text/plain": [
       "Counter({1: 1051, 0: 1050})"
      ]
     },
     "execution_count": 10,
     "metadata": {},
     "output_type": "execute_result"
    }
   ],
   "source": [
    "Counter(data['Label'])"
   ]
  },
  {
   "cell_type": "code",
   "execution_count": 11,
   "id": "0717ebb4-92d8-4cd2-9825-b046e88cc01b",
   "metadata": {},
   "outputs": [],
   "source": [
    "# X1, X2, X3는 Y에 영향을 너무 많이 미치는 변수이기 때문에 빼고 다른 변수에서 중요도를 찾아보자\n",
    "Y = data['Label']\n",
    "X = data.drop(columns=['Y', 'X1', 'X2', 'X3', 'Label'])"
   ]
  },
  {
   "cell_type": "code",
   "execution_count": 12,
   "id": "76208276-268b-458f-95f8-e53b83608abf",
   "metadata": {},
   "outputs": [
    {
     "name": "stdout",
     "output_type": "stream",
     "text": [
      ">>>> # of Train data : 1470\n",
      ">>>> # of valid data : 631\n"
     ]
    }
   ],
   "source": [
    "idx = list(range(X.shape[0]))\n",
    "train_idx, valid_idx = train_test_split(idx, test_size=0.3, random_state=2021)\n",
    "print(\">>>> # of Train data : {}\".format(len(train_idx)))\n",
    "print(\">>>> # of valid data : {}\".format(len(valid_idx)))"
   ]
  },
  {
   "cell_type": "markdown",
   "id": "220054f7-7c6e-4bba-a962-2d471f3f9b3a",
   "metadata": {},
   "source": [
    "<b><u>[Random Forest]</u></b>\n",
    "- Hyperparameter tuning\n",
    "    - estimators, depth\n",
    "    - Random Forest는 이 두개만 조절해도 좋은 결과를 얻을 수 있음\n",
    "    - GridSearchCV를 사용하지 않고 For Loop를 돌리는 이유\n",
    "        - 내가 원하는 결과를 저장하고 Display 하고 싶음\n",
    "        - 내가 원하는 결과를 실시간 Display 하면서 그때 그때 파라미터 튜닝에 대한 대처를 하고 싶음"
   ]
  },
  {
   "cell_type": "code",
   "execution_count": 14,
   "id": "19135d77-a00d-4efb-a6a9-dad8fd42e604",
   "metadata": {},
   "outputs": [
    {
     "name": "stdout",
     "output_type": "stream",
     "text": [
      ">>> 0 <<<\n",
      "Number of Estimators : 30, Max Depth : 10\n",
      "Train Confusion Matrix\n",
      "[[708  32]\n",
      " [  9 721]]\n",
      "Train Acc : 0.972108843537415\n",
      "Test Confusion Matrix\n",
      "[[230  80]\n",
      " [ 63 258]]\n",
      "TesT Acc : 0.7733755942947702\n",
      "-----------------------------------------------------------------------\n",
      "-----------------------------------------------------------------------\n",
      ">>> 1 <<<\n",
      "Number of Estimators : 30, Max Depth : 15\n",
      "Train Confusion Matrix\n",
      "[[737   3]\n",
      " [  0 730]]\n",
      "Train Acc : 0.9979591836734694\n",
      "Test Confusion Matrix\n",
      "[[223  87]\n",
      " [ 80 241]]\n",
      "TesT Acc : 0.7353407290015848\n",
      "-----------------------------------------------------------------------\n",
      "-----------------------------------------------------------------------\n",
      ">>> 2 <<<\n",
      "Number of Estimators : 30, Max Depth : 20\n",
      "Train Confusion Matrix\n",
      "[[738   2]\n",
      " [  0 730]]\n",
      "Train Acc : 0.998639455782313\n",
      "Test Confusion Matrix\n",
      "[[233  77]\n",
      " [ 71 250]]\n",
      "TesT Acc : 0.7654516640253566\n",
      "-----------------------------------------------------------------------\n",
      "-----------------------------------------------------------------------\n",
      ">>> 3 <<<\n",
      "Number of Estimators : 40, Max Depth : 10\n",
      "Train Confusion Matrix\n",
      "[[721  19]\n",
      " [  6 724]]\n",
      "Train Acc : 0.9829931972789115\n",
      "Test Confusion Matrix\n",
      "[[220  90]\n",
      " [ 55 266]]\n",
      "TesT Acc : 0.7702060221870047\n",
      "-----------------------------------------------------------------------\n",
      "-----------------------------------------------------------------------\n",
      ">>> 4 <<<\n",
      "Number of Estimators : 40, Max Depth : 15\n",
      "Train Confusion Matrix\n",
      "[[739   1]\n",
      " [  0 730]]\n",
      "Train Acc : 0.9993197278911564\n",
      "Test Confusion Matrix\n",
      "[[222  88]\n",
      " [ 71 250]]\n",
      "TesT Acc : 0.7480190174326465\n",
      "-----------------------------------------------------------------------\n",
      "-----------------------------------------------------------------------\n",
      ">>> 5 <<<\n",
      "Number of Estimators : 40, Max Depth : 20\n",
      "Train Confusion Matrix\n",
      "[[740   0]\n",
      " [  0 730]]\n",
      "Train Acc : 1.0\n",
      "Test Confusion Matrix\n",
      "[[229  81]\n",
      " [ 71 250]]\n",
      "TesT Acc : 0.7591125198098256\n",
      "-----------------------------------------------------------------------\n",
      "-----------------------------------------------------------------------\n",
      ">>> 6 <<<\n",
      "Number of Estimators : 50, Max Depth : 10\n",
      "Train Confusion Matrix\n",
      "[[721  19]\n",
      " [  5 725]]\n",
      "Train Acc : 0.9836734693877551\n",
      "Test Confusion Matrix\n",
      "[[228  82]\n",
      " [ 51 270]]\n",
      "TesT Acc : 0.7892234548335975\n",
      "-----------------------------------------------------------------------\n",
      "-----------------------------------------------------------------------\n",
      ">>> 7 <<<\n",
      "Number of Estimators : 50, Max Depth : 15\n",
      "Train Confusion Matrix\n",
      "[[739   1]\n",
      " [  0 730]]\n",
      "Train Acc : 0.9993197278911564\n",
      "Test Confusion Matrix\n",
      "[[229  81]\n",
      " [ 69 252]]\n",
      "TesT Acc : 0.7622820919175911\n",
      "-----------------------------------------------------------------------\n",
      "-----------------------------------------------------------------------\n",
      ">>> 8 <<<\n",
      "Number of Estimators : 50, Max Depth : 20\n",
      "Train Confusion Matrix\n",
      "[[740   0]\n",
      " [  0 730]]\n",
      "Train Acc : 1.0\n",
      "Test Confusion Matrix\n",
      "[[228  82]\n",
      " [ 68 253]]\n",
      "TesT Acc : 0.7622820919175911\n",
      "-----------------------------------------------------------------------\n",
      "-----------------------------------------------------------------------\n",
      ">>> 9 <<<\n",
      "Number of Estimators : 60, Max Depth : 10\n",
      "Train Confusion Matrix\n",
      "[[722  18]\n",
      " [  6 724]]\n",
      "Train Acc : 0.9836734693877551\n",
      "Test Confusion Matrix\n",
      "[[227  83]\n",
      " [ 53 268]]\n",
      "TesT Acc : 0.7844690966719493\n",
      "-----------------------------------------------------------------------\n",
      "-----------------------------------------------------------------------\n",
      ">>> 10 <<<\n",
      "Number of Estimators : 60, Max Depth : 15\n",
      "Train Confusion Matrix\n",
      "[[740   0]\n",
      " [  0 730]]\n",
      "Train Acc : 1.0\n",
      "Test Confusion Matrix\n",
      "[[221  89]\n",
      " [ 73 248]]\n",
      "TesT Acc : 0.7432646592709984\n",
      "-----------------------------------------------------------------------\n",
      "-----------------------------------------------------------------------\n",
      ">>> 11 <<<\n",
      "Number of Estimators : 60, Max Depth : 20\n",
      "Train Confusion Matrix\n",
      "[[740   0]\n",
      " [  0 730]]\n",
      "Train Acc : 1.0\n",
      "Test Confusion Matrix\n",
      "[[229  81]\n",
      " [ 64 257]]\n",
      "TesT Acc : 0.7702060221870047\n",
      "-----------------------------------------------------------------------\n",
      "-----------------------------------------------------------------------\n"
     ]
    }
   ],
   "source": [
    "# RandomForest Hyperparameter\n",
    "estimators = [30, 40, 50, 60]\n",
    "depth = [10, 15, 20]\n",
    "\n",
    "# Modeling\n",
    "save_est = []\n",
    "save_dep = []\n",
    "save_acc = []\n",
    "\n",
    "cnt = 0\n",
    "for est in estimators:\n",
    "    for dep in depth:\n",
    "        print(\">>> {} <<<\".format(cnt))\n",
    "        cnt += 1\n",
    "        print(\"Number of Estimators : {}, Max Depth : {}\".format(est, dep))\n",
    "        \n",
    "        #https://scikit-learn.org/stable/modules/generated/sklearn.ensemble.RandomForestClassifier.html\n",
    "        model = RandomForestClassifier(n_estimators=est, max_depth=dep, random_state=119,\n",
    "                                       criterion='entropy', max_features='auto', \n",
    "                                       bootstrap=True, oob_score=True) # if you use \"oob_score=True\", get long time for training\n",
    "        model.fit(X.iloc[train_idx], Y.iloc[train_idx])\n",
    "\n",
    "        # Train Acc\n",
    "        y_pre_train = model.predict(X.iloc[train_idx])\n",
    "        cm_train = confusion_matrix(Y.iloc[train_idx], y_pre_train)\n",
    "        print(\"Train Confusion Matrix\")\n",
    "        print(cm_train)\n",
    "        print(\"Train Acc : {}\".format((cm_train[0,0] + cm_train[1,1])/cm_train.sum()))\n",
    "\n",
    "        # Test Acc\n",
    "        y_pre_test = model.predict(X.iloc[valid_idx])\n",
    "        cm_test = confusion_matrix(Y.iloc[valid_idx], y_pre_test)\n",
    "        print(\"Test Confusion Matrix\")\n",
    "        print(cm_test)\n",
    "        print(\"TesT Acc : {}\".format((cm_test[0,0] + cm_test[1,1])/cm_test.sum()))\n",
    "        print(\"-----------------------------------------------------------------------\")\n",
    "        print(\"-----------------------------------------------------------------------\")\n",
    "        save_est.append(est)\n",
    "        save_dep.append(dep)\n",
    "        save_acc.append((cm_test[0,0] + cm_test[1,1])/cm_test.sum())"
   ]
  },
  {
   "cell_type": "code",
   "execution_count": 15,
   "id": "0fb6177d-77af-4971-8496-b3cf60512e16",
   "metadata": {},
   "outputs": [
    {
     "name": "stdout",
     "output_type": "stream",
     "text": [
      ">>> 6 <<<\n",
      "Best Test Acc : 0.7892234548335975\n",
      "Best n_estimators : 50\n",
      "Best Max_Depth : 10\n"
     ]
    }
   ],
   "source": [
    "# Best Param Display\n",
    "print(\">>> {} <<<\\nBest Test Acc : {}\\nBest n_estimators : {}\\nBest Max_Depth : {}\".format(np.argmax(save_acc),\n",
    "                                                                                           save_acc[np.argmax(save_acc)], \n",
    "                                                                                           save_est[np.argmax(save_acc)],\n",
    "                                                                                           save_dep[np.argmax(save_acc)]))"
   ]
  },
  {
   "cell_type": "markdown",
   "id": "efb216ea-954f-4943-82a0-5bf0dce839de",
   "metadata": {},
   "source": [
    "<b><u>[주의]</u></b>\n",
    "- 현재는 모델을 Parameter Tuning을 하면서 모델을 저정하지 않고 있음\n",
    "- 나중에 Training 시간이 매우 오래 걸리는 알고리즘이면 Parameter Tuning을 하면서 모델을 저장해야함\n",
    "- Class09 LightGBM Tutorial Code 에 모델을 저장하고 Best Model을 불러오는 과정이 있음"
   ]
  },
  {
   "cell_type": "code",
   "execution_count": 16,
   "id": "5222f3f8-b489-4027-9028-e9c1831c537d",
   "metadata": {},
   "outputs": [
    {
     "data": {
      "text/plain": [
       "RandomForestClassifier(criterion='entropy', max_depth=10, n_estimators=50,\n",
       "                       oob_score=True, random_state=119)"
      ]
     },
     "execution_count": 16,
     "metadata": {},
     "output_type": "execute_result"
    }
   ],
   "source": [
    "# Best Model\n",
    "best_model = RandomForestClassifier(n_estimators=save_est[np.argmax(save_acc)], max_depth=save_dep[np.argmax(save_acc)], random_state=119,\n",
    "                               criterion='entropy', max_features='auto', \n",
    "                               bootstrap=True, oob_score=True) # if you use \"oob_score=True\", get long time for training\n",
    "best_model.fit(X.iloc[train_idx], Y.iloc[train_idx])"
   ]
  },
  {
   "cell_type": "code",
   "execution_count": 17,
   "id": "a9a74a09-a72c-474a-91f9-6a16fe2a78e8",
   "metadata": {},
   "outputs": [
    {
     "name": "stdout",
     "output_type": "stream",
     "text": [
      "Train Confusion Matrix\n",
      "[[721  19]\n",
      " [  5 725]]\n",
      "Train Acc : 0.9836734693877551\n",
      "Test Confusion Matrix\n",
      "[[228  82]\n",
      " [ 51 270]]\n",
      "TesT Acc : 0.7892234548335975\n"
     ]
    }
   ],
   "source": [
    "# Train Acc\n",
    "y_pre_train = best_model.predict(X.iloc[train_idx])\n",
    "cm_train = confusion_matrix(Y.iloc[train_idx], y_pre_train)\n",
    "print(\"Train Confusion Matrix\")\n",
    "print(cm_train)\n",
    "print(\"Train Acc : {}\".format((cm_train[0,0] + cm_train[1,1])/cm_train.sum()))\n",
    "\n",
    "# Test Acc\n",
    "y_pre_test = best_model.predict(X.iloc[valid_idx])\n",
    "cm_test = confusion_matrix(Y.iloc[valid_idx], y_pre_test)\n",
    "print(\"Test Confusion Matrix\")\n",
    "print(cm_test)\n",
    "print(\"TesT Acc : {}\".format((cm_test[0,0] + cm_test[1,1])/cm_test.sum())) "
   ]
  },
  {
   "cell_type": "code",
   "execution_count": 18,
   "id": "4e799a93-8906-4a92-ba33-252ab1406845",
   "metadata": {},
   "outputs": [
    {
     "name": "stdout",
     "output_type": "stream",
     "text": [
      "        Score Feature\n",
      "0    0.103592     X23\n",
      "1    0.060653     X22\n",
      "2    0.034934    X244\n",
      "3    0.020613    X247\n",
      "4    0.013675    X246\n",
      "..        ...     ...\n",
      "348  0.000000    X120\n",
      "349  0.000000    X117\n",
      "350  0.000000    X114\n",
      "351  0.000000    X111\n",
      "352  0.000000    X108\n",
      "\n",
      "[353 rows x 2 columns]\n"
     ]
    }
   ],
   "source": [
    "feature_map = pd.DataFrame(sorted(zip(best_model.feature_importances_, X.columns), reverse=True), columns=['Score', 'Feature'])\n",
    "print(feature_map)"
   ]
  },
  {
   "cell_type": "code",
   "execution_count": 19,
   "id": "2efd0b50-15cf-4255-8d35-38d3f86fc9ca",
   "metadata": {},
   "outputs": [
    {
     "data": {
      "image/png": "[encoded data removed]",
      "text/plain": [
       "<Figure size 1440x720 with 1 Axes>"
      ]
     },
     "metadata": {
      "needs_background": "light"
     },
     "output_type": "display_data"
    }
   ],
   "source": [
    "# Importance Score Top 20\n",
    "feature_map_20 = feature_map.iloc[:20]\n",
    "plt.figure(figsize=(20, 10))\n",
    "sns.barplot(x=\"Score\", y=\"Feature\", data=feature_map_20.sort_values(by=\"Score\", ascending=False), errwidth=40)\n",
    "plt.title('Random Forest Importance Features')\n",
    "plt.tight_layout()\n",
    "plt.show()"
   ]
  },
  {
   "cell_type": "markdown",
   "id": "3468e8e1-1810-4b32-97c9-79a962022fb0",
   "metadata": {},
   "source": [
    "<b><u>[AdaBoost]</u></b>\n",
    "- Hyperparameter tuning\n",
    "    - estimators, learning Rate\n",
    "    - AdaBoost도이 두개만 조절해도 좋은 결과를 얻을 수 있음\n",
    "    - GridSearchCV를 사용하지 않고 For Loop를 돌리는 이유\n",
    "        - 내가 원하는 결과를 저장하고 Display 하고 싶음\n",
    "        - 내가 원하는 결과를 실시간 Display 하면서 그때 그때 파라미터 튜닝에 대한 대처를 하고 싶음"
   ]
  },
  {
   "cell_type": "code",
   "execution_count": 25,
   "id": "276c36ea-6914-4d84-bba5-158e3f4d864e",
   "metadata": {},
   "outputs": [
    {
     "name": "stdout",
     "output_type": "stream",
     "text": [
      ">>> 0 <<<\n",
      "Number of Estimators : 50, Learning Rate : 0.001\n",
      "Train Confusion Matrix\n",
      "[[471 269]\n",
      " [ 71 659]]\n",
      "Train Acc : 0.7687074829931972\n",
      "Test Confusion Matrix\n",
      "[[199 111]\n",
      " [ 33 288]]\n",
      "TesT Acc : 0.7717908082408875\n",
      "-----------------------------------------------------------------------\n",
      "-----------------------------------------------------------------------\n",
      ">>> 1 <<<\n",
      "Number of Estimators : 50, Learning Rate : 0.01\n",
      "Train Confusion Matrix\n",
      "[[510 230]\n",
      " [102 628]]\n",
      "Train Acc : 0.7741496598639456\n",
      "Test Confusion Matrix\n",
      "[[213  97]\n",
      " [ 44 277]]\n",
      "TesT Acc : 0.7765451664025357\n",
      "-----------------------------------------------------------------------\n",
      "-----------------------------------------------------------------------\n",
      ">>> 2 <<<\n",
      "Number of Estimators : 50, Learning Rate : 0.03\n",
      "Train Confusion Matrix\n",
      "[[510 230]\n",
      " [102 628]]\n",
      "Train Acc : 0.7741496598639456\n",
      "Test Confusion Matrix\n",
      "[[213  97]\n",
      " [ 44 277]]\n",
      "TesT Acc : 0.7765451664025357\n",
      "-----------------------------------------------------------------------\n",
      "-----------------------------------------------------------------------\n",
      ">>> 3 <<<\n",
      "Number of Estimators : 50, Learning Rate : 0.05\n",
      "Train Confusion Matrix\n",
      "[[508 232]\n",
      " [ 97 633]]\n",
      "Train Acc : 0.7761904761904762\n",
      "Test Confusion Matrix\n",
      "[[211  99]\n",
      " [ 42 279]]\n",
      "TesT Acc : 0.7765451664025357\n",
      "-----------------------------------------------------------------------\n",
      "-----------------------------------------------------------------------\n",
      ">>> 4 <<<\n",
      "Number of Estimators : 70, Learning Rate : 0.001\n",
      "Train Confusion Matrix\n",
      "[[471 269]\n",
      " [ 71 659]]\n",
      "Train Acc : 0.7687074829931972\n",
      "Test Confusion Matrix\n",
      "[[199 111]\n",
      " [ 33 288]]\n",
      "TesT Acc : 0.7717908082408875\n",
      "-----------------------------------------------------------------------\n",
      "-----------------------------------------------------------------------\n",
      ">>> 5 <<<\n",
      "Number of Estimators : 70, Learning Rate : 0.01\n",
      "Train Confusion Matrix\n",
      "[[510 230]\n",
      " [102 628]]\n",
      "Train Acc : 0.7741496598639456\n",
      "Test Confusion Matrix\n",
      "[[213  97]\n",
      " [ 44 277]]\n",
      "TesT Acc : 0.7765451664025357\n",
      "-----------------------------------------------------------------------\n",
      "-----------------------------------------------------------------------\n",
      ">>> 6 <<<\n",
      "Number of Estimators : 70, Learning Rate : 0.03\n",
      "Train Confusion Matrix\n",
      "[[510 230]\n",
      " [ 99 631]]\n",
      "Train Acc : 0.7761904761904762\n",
      "Test Confusion Matrix\n",
      "[[211  99]\n",
      " [ 43 278]]\n",
      "TesT Acc : 0.7749603803486529\n",
      "-----------------------------------------------------------------------\n",
      "-----------------------------------------------------------------------\n",
      ">>> 7 <<<\n",
      "Number of Estimators : 70, Learning Rate : 0.05\n",
      "Train Confusion Matrix\n",
      "[[509 231]\n",
      " [ 91 639]]\n",
      "Train Acc : 0.780952380952381\n",
      "Test Confusion Matrix\n",
      "[[210 100]\n",
      " [ 41 280]]\n",
      "TesT Acc : 0.7765451664025357\n",
      "-----------------------------------------------------------------------\n",
      "-----------------------------------------------------------------------\n",
      ">>> 8 <<<\n",
      "Number of Estimators : 90, Learning Rate : 0.001\n",
      "Train Confusion Matrix\n",
      "[[471 269]\n",
      " [ 71 659]]\n",
      "Train Acc : 0.7687074829931972\n",
      "Test Confusion Matrix\n",
      "[[199 111]\n",
      " [ 33 288]]\n",
      "TesT Acc : 0.7717908082408875\n",
      "-----------------------------------------------------------------------\n",
      "-----------------------------------------------------------------------\n",
      ">>> 9 <<<\n",
      "Number of Estimators : 90, Learning Rate : 0.01\n",
      "Train Confusion Matrix\n",
      "[[510 230]\n",
      " [102 628]]\n",
      "Train Acc : 0.7741496598639456\n",
      "Test Confusion Matrix\n",
      "[[213  97]\n",
      " [ 44 277]]\n",
      "TesT Acc : 0.7765451664025357\n",
      "-----------------------------------------------------------------------\n",
      "-----------------------------------------------------------------------\n",
      ">>> 10 <<<\n",
      "Number of Estimators : 90, Learning Rate : 0.03\n",
      "Train Confusion Matrix\n",
      "[[510 230]\n",
      " [ 96 634]]\n",
      "Train Acc : 0.7782312925170068\n",
      "Test Confusion Matrix\n",
      "[[212  98]\n",
      " [ 43 278]]\n",
      "TesT Acc : 0.7765451664025357\n",
      "-----------------------------------------------------------------------\n",
      "-----------------------------------------------------------------------\n",
      ">>> 11 <<<\n",
      "Number of Estimators : 90, Learning Rate : 0.05\n",
      "Train Confusion Matrix\n",
      "[[512 228]\n",
      " [ 87 643]]\n",
      "Train Acc : 0.7857142857142857\n",
      "Test Confusion Matrix\n",
      "[[213  97]\n",
      " [ 41 280]]\n",
      "TesT Acc : 0.7812995245641838\n",
      "-----------------------------------------------------------------------\n",
      "-----------------------------------------------------------------------\n",
      ">>> 12 <<<\n",
      "Number of Estimators : 100, Learning Rate : 0.001\n",
      "Train Confusion Matrix\n",
      "[[471 269]\n",
      " [ 71 659]]\n",
      "Train Acc : 0.7687074829931972\n",
      "Test Confusion Matrix\n",
      "[[199 111]\n",
      " [ 33 288]]\n",
      "TesT Acc : 0.7717908082408875\n",
      "-----------------------------------------------------------------------\n",
      "-----------------------------------------------------------------------\n",
      ">>> 13 <<<\n",
      "Number of Estimators : 100, Learning Rate : 0.01\n",
      "Train Confusion Matrix\n",
      "[[510 230]\n",
      " [102 628]]\n",
      "Train Acc : 0.7741496598639456\n",
      "Test Confusion Matrix\n",
      "[[213  97]\n",
      " [ 44 277]]\n",
      "TesT Acc : 0.7765451664025357\n",
      "-----------------------------------------------------------------------\n",
      "-----------------------------------------------------------------------\n",
      ">>> 14 <<<\n",
      "Number of Estimators : 100, Learning Rate : 0.03\n",
      "Train Confusion Matrix\n",
      "[[511 229]\n",
      " [ 93 637]]\n",
      "Train Acc : 0.780952380952381\n",
      "Test Confusion Matrix\n",
      "[[212  98]\n",
      " [ 41 280]]\n",
      "TesT Acc : 0.7797147385103012\n",
      "-----------------------------------------------------------------------\n",
      "-----------------------------------------------------------------------\n",
      ">>> 15 <<<\n",
      "Number of Estimators : 100, Learning Rate : 0.05\n",
      "Train Confusion Matrix\n",
      "[[515 225]\n",
      " [ 88 642]]\n",
      "Train Acc : 0.7870748299319728\n",
      "Test Confusion Matrix\n",
      "[[214  96]\n",
      " [ 41 280]]\n",
      "TesT Acc : 0.7828843106180665\n",
      "-----------------------------------------------------------------------\n",
      "-----------------------------------------------------------------------\n"
     ]
    }
   ],
   "source": [
    "# AdaBoost Hyperparameter\n",
    "estimators = [50, 70, 90, 100]\n",
    "learning = [0.001, 0.01, 0.03, 0.05]\n",
    "\n",
    "# Modeling\n",
    "save_est = []\n",
    "save_lr = []\n",
    "save_acc = []\n",
    "\n",
    "cnt = 0\n",
    "for est in estimators:\n",
    "    for lr in learning:\n",
    "        print(\">>> {} <<<\".format(cnt))\n",
    "        cnt += 1\n",
    "        print(\"Number of Estimators : {}, Learning Rate : {}\".format(est, lr))\n",
    "        \n",
    "        #https://scikit-learn.org/stable/modules/generated/sklearn.ensemble.AdaBoostClassifier.html\n",
    "        model = AdaBoostClassifier(n_estimators=est, learning_rate=lr, random_state=119)\n",
    "        model.fit(X.iloc[train_idx], Y.iloc[train_idx])\n",
    "\n",
    "        # Train Acc\n",
    "        y_pre_train = model.predict(X.iloc[train_idx])\n",
    "        cm_train = confusion_matrix(Y.iloc[train_idx], y_pre_train)\n",
    "        print(\"Train Confusion Matrix\")\n",
    "        print(cm_train)\n",
    "        print(\"Train Acc : {}\".format((cm_train[0,0] + cm_train[1,1])/cm_train.sum()))\n",
    "\n",
    "        # Test Acc\n",
    "        y_pre_test = model.predict(X.iloc[valid_idx])\n",
    "        cm_test = confusion_matrix(Y.iloc[valid_idx], y_pre_test)\n",
    "        print(\"Test Confusion Matrix\")\n",
    "        print(cm_test)\n",
    "        print(\"TesT Acc : {}\".format((cm_test[0,0] + cm_test[1,1])/cm_test.sum()))\n",
    "        print(\"-----------------------------------------------------------------------\")\n",
    "        print(\"-----------------------------------------------------------------------\")\n",
    "        save_est.append(est)\n",
    "        save_lr.append(lr)\n",
    "        save_acc.append((cm_test[0,0] + cm_test[1,1])/cm_test.sum())"
   ]
  },
  {
   "cell_type": "code",
   "execution_count": 26,
   "id": "ddd447d0-83a0-4791-8c09-15f7c3096771",
   "metadata": {},
   "outputs": [
    {
     "name": "stdout",
     "output_type": "stream",
     "text": [
      ">>> 15 <<<\n",
      "Best Test Acc : 0.7828843106180665\n",
      "Best n_estimators : 100\n",
      "Best Learning Rate : 0.05\n"
     ]
    }
   ],
   "source": [
    "print(\">>> {} <<<\\nBest Test Acc : {}\\nBest n_estimators : {}\\nBest Learning Rate : {}\".format(np.argmax(save_acc),\n",
    "                                                                                               save_acc[np.argmax(save_acc)], \n",
    "                                                                                               save_est[np.argmax(save_acc)],\n",
    "                                                                                               save_lr[np.argmax(save_acc)]))"
   ]
  },
  {
   "cell_type": "markdown",
   "id": "70442f8a-478f-4a06-b48d-be6f10cde0fe",
   "metadata": {},
   "source": [
    "<b><u>[주의]</u></b>\n",
    "- 현재는 모델을 Parameter Tuning을 하면서 모델을 저정하지 않고 있음\n",
    "- 나중에 Training 시간이 매우 오래 걸리는 알고리즘이면 Parameter Tuning을 하면서 모델을 저장해야함\n",
    "- Class09 LightGBM Tutorial Code 에 모델을 저장하고 Best Model을 불러오는 과정이 있음"
   ]
  },
  {
   "cell_type": "code",
   "execution_count": 27,
   "id": "e0c77f46-2450-4d1b-95bd-75661c97091b",
   "metadata": {},
   "outputs": [
    {
     "name": "stdout",
     "output_type": "stream",
     "text": [
      "Train Confusion Matrix\n",
      "[[515 225]\n",
      " [ 88 642]]\n",
      "Train Acc : 0.7870748299319728\n",
      "Test Confusion Matrix\n",
      "[[214  96]\n",
      " [ 41 280]]\n",
      "TesT Acc : 0.7828843106180665\n"
     ]
    }
   ],
   "source": [
    "best_model = AdaBoostClassifier(n_estimators=save_est[np.argmax(save_acc)], learning_rate=save_lr[np.argmax(save_acc)], random_state=119)\n",
    "best_model.fit(X.iloc[train_idx], Y.iloc[train_idx])\n",
    "\n",
    "# Train Acc\n",
    "y_pre_train = best_model.predict(X.iloc[train_idx])\n",
    "cm_train = confusion_matrix(Y.iloc[train_idx], y_pre_train)\n",
    "print(\"Train Confusion Matrix\")\n",
    "print(cm_train)\n",
    "print(\"Train Acc : {}\".format((cm_train[0,0] + cm_train[1,1])/cm_train.sum()))\n",
    "\n",
    "# Test Acc\n",
    "y_pre_test = best_model.predict(X.iloc[valid_idx])\n",
    "cm_test = confusion_matrix(Y.iloc[valid_idx], y_pre_test)\n",
    "print(\"Test Confusion Matrix\")\n",
    "print(cm_test)\n",
    "print(\"TesT Acc : {}\".format((cm_test[0,0] + cm_test[1,1])/cm_test.sum()))"
   ]
  },
  {
   "cell_type": "code",
   "execution_count": 28,
   "id": "4ef6cf37-4a45-42fc-9e64-17c7292d6cbf",
   "metadata": {},
   "outputs": [
    {
     "name": "stdout",
     "output_type": "stream",
     "text": [
      "     Score Feature\n",
      "0     0.49     X23\n",
      "1     0.06     X27\n",
      "2     0.06    X244\n",
      "3     0.05    X247\n",
      "4     0.05    X113\n",
      "..     ...     ...\n",
      "348   0.00    X103\n",
      "349   0.00    X102\n",
      "350   0.00    X101\n",
      "351   0.00    X100\n",
      "352   0.00     X10\n",
      "\n",
      "[353 rows x 2 columns]\n"
     ]
    }
   ],
   "source": [
    "feature_map = pd.DataFrame(sorted(zip(best_model.feature_importances_, X.columns), reverse=True), columns=['Score', 'Feature'])\n",
    "print(feature_map)"
   ]
  },
  {
   "cell_type": "code",
   "execution_count": 29,
   "id": "94cb6139-3bc0-4d5f-a84a-809681259b45",
   "metadata": {},
   "outputs": [
    {
     "data": {
      "image/png": "[encoded data removed]",
      "text/plain": [
       "<Figure size 1440x720 with 1 Axes>"
      ]
     },
     "metadata": {
      "needs_background": "light"
     },
     "output_type": "display_data"
    }
   ],
   "source": [
    "# Importance Score Top 20\n",
    "feature_map_20 = feature_map.iloc[:20]\n",
    "plt.figure(figsize=(20, 10))\n",
    "sns.barplot(x=\"Score\", y=\"Feature\", data=feature_map_20.sort_values(by=\"Score\", ascending=False), errwidth=40)\n",
    "plt.title('AdaBoost Importance Features')\n",
    "plt.tight_layout()\n",
    "plt.show()"
   ]
  }
 ],
 "metadata": {
  "kernelspec": {
   "display_name": "Python 3 (ipykernel)",
   "language": "python",
   "name": "python3"
  },
  "language_info": {
   "codemirror_mode": {
    "name": "ipython",
    "version": 3
   },
   "file_extension": ".py",
   "mimetype": "text/x-python",
   "name": "python",
   "nbconvert_exporter": "python",
   "pygments_lexer": "ipython3",
   "version": "3.7.11"
  }
 },
 "nbformat": 4,
 "nbformat_minor": 5
}
