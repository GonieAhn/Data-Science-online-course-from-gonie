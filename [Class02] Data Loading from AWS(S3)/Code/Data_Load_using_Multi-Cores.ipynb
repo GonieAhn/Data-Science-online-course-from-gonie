{
 "cells": [
  {
   "cell_type": "markdown",
   "id": "ea1b101e-d14c-4a35-b7ed-d37499c7d442",
   "metadata": {},
   "source": [
    "# AWS(S3) Data Loading & Saving Using Multiprocessing Code Tutorial\n",
    "\n",
    "<b><u>[목적]</u></b>\n",
    "- S3에 축적되는 Data를 Python 환경에 불러옴\n",
    "- Partitioning을 활용하여 Multiprocessing으로 여러 개의 Core를 잡아 시간을 단축시킴\n",
    "    \n",
    "<b><u>[Process]</u></b>\n",
    "- Data Call From AWS(S3) Using Multiprocessing\n",
    "- Pickle Data Saving (Faster Than .csv or .xlsx)\n",
    "    \n",
    "<b><u>[주의]</u></b>\n",
    "- AWS(S3)에 너무 접근을 많이하게 되면 AWS에서 락을 걸기 때문에 불러오는 시간이 느려질 수 있음\n",
    "- 즉, 단시간에 데이터를 너무 많이 불러오게 되면 락 걸림\""
   ]
  },
  {
   "cell_type": "code",
   "execution_count": 5,
   "id": "bd96dcf5-fba3-4fde-aacf-eb49ddffe6ec",
   "metadata": {},
   "outputs": [],
   "source": [
    "import os\n",
    "import gc\n",
    "import sys\n",
    "import boto3\n",
    "import pickle\n",
    "import datatable as dt\n",
    "import numpy as np\n",
    "import pandas as pd\n",
    "import multiprocessing as mp\n",
    "\n",
    "import warnings\n",
    "warnings.filterwarnings(\"ignore\")\n",
    "\n",
    "from io import StringIO\n",
    "from tqdm.notebook import tqdm\n",
    "print(\">>>> # of Cores : {}\".format(mp.cpu_count()))"
   ]
  },
  {
   "cell_type": "markdown",
   "id": "84f981c9-01ee-4ba7-9970-d748312bd743",
   "metadata": {},
   "source": [
    ">>>> # of Cores : 72"
   ]
  },
  {
   "cell_type": "code",
   "execution_count": 6,
   "id": "b615cadc-7f0d-44e6-b01e-3c957747424b",
   "metadata": {},
   "outputs": [],
   "source": [
    " # Analysis Date - Long Term : list(range(20200701, 20200732, 1))\n",
    "days = ['20210222', '20210223']\n",
    "# # of cores - Nonlinear speed up\n",
    "partitioning = 5"
   ]
  },
  {
   "cell_type": "markdown",
   "id": "96043760-3b5d-4361-9866-78651b7ac6a6",
   "metadata": {},
   "source": [
    "<b><u>[Connection S3]</u></b>\n",
    "- boto3 Package를 활용한 S3 연결\n",
    "- bucket, aws_access_key_id, aws_secret_access_key, region는 보안상 블록\n",
    "    - 개인 혹은 단체에서 사용하는 S3 Key를 아래 Cell에 입력하여 접근함"
   ]
  },
  {
   "cell_type": "code",
   "execution_count": 7,
   "id": "9060dfc0-a959-43fc-acfe-9ad01b508bfa",
   "metadata": {},
   "outputs": [],
   "source": [
    "# AWS INFO\n",
    "bucket = 'XXXX'\n",
    "aws_access_key_id = 'XXXX'\n",
    "aws_secret_access_key = 'XXXX'\n",
    "region = 'XXXX'\n",
    "\n",
    "client = boto3.client('s3',aws_access_key_id=aws_access_key_id, aws_secret_access_key=aws_secret_access_key, region_name=region)\n",
    "s3 = boto3.resource('s3',aws_access_key_id=aws_access_key_id, aws_secret_access_key=aws_secret_access_key, region_name=region).Bucket(bucket) "
   ]
  },
  {
   "cell_type": "markdown",
   "id": "f01ada35-6b40-489e-966f-feda0893f186",
   "metadata": {},
   "source": [
    "times: user 75.5 ms, sys: 30.8 ms, total: 106 ms\n",
    "Wall time: 856 ms"
   ]
  },
  {
   "cell_type": "markdown",
   "id": "6fa078f6-9d83-4602-8b5a-d2887116cd27",
   "metadata": {},
   "source": [
    "<b><u>[File Path List Up]</u></b>\n",
    "- 선택한 날짜에 속하는 데이터 Path를 모두 List에 넣어줌"
   ]
  },
  {
   "cell_type": "code",
   "execution_count": 8,
   "id": "ca839ab3-f2c1-4317-a7cd-6704f55b34e4",
   "metadata": {},
   "outputs": [],
   "source": [
    "%%time\n",
    "# Data File List up\n",
    "file_list = []\n",
    "for day in days:\n",
    "    day = str(day)\n",
    "    tmp_list = [x.key for x in s3.objects.filter(Prefix='.../year={}/month={}/day={}/'.format(day[:4], day[4:6], day[6:8]))]\n",
    "    file_list.extend(tmp_list)\n",
    "    \n",
    "print(\">>>> # of files : {}\".format(len(file_list)))"
   ]
  },
  {
   "cell_type": "markdown",
   "id": "b093eb63-5634-4b45-8dec-377ee04b55eb",
   "metadata": {},
   "source": [
    ">>>> # of files : 288\n",
    "CPU times: user 87.7 ms, sys: 8.48 ms, total: 96.2 ms\n",
    "Wall time: 382 ms"
   ]
  },
  {
   "cell_type": "markdown",
   "id": "54ac1209-b48f-476e-ae91-613dd13a6d68",
   "metadata": {},
   "source": [
    "<b><u>[File List Partitioning]</u></b>\n",
    "- Multiprocessing을 돌리기 위해서는 File들을 Core에 할당할 수 있도록 나누어 줘야함\n",
    "- 너무 많이 나누게 되면 오히려 엄청 느려지게 되기 때문에 적당한 수준으로 나눠야함"
   ]
  },
  {
   "cell_type": "code",
   "execution_count": 9,
   "id": "a078da69-6cb6-4ca1-99df-2473668ab779",
   "metadata": {},
   "outputs": [],
   "source": [
    "# File partitioning def\n",
    "def chunkIt(seq, num):\n",
    "    avg = len(seq) / float(num)\n",
    "    out = []\n",
    "    last = 0.0\n",
    "\n",
    "    while last < len(seq):\n",
    "        out.append(seq[int(last):int(last + avg)])\n",
    "        last += avg\n",
    "\n",
    "    return out\n",
    "\n",
    "file_list = chunkIt(file_list, partitioning)"
   ]
  },
  {
   "cell_type": "markdown",
   "id": "9f3a2ceb-5cf5-404e-91b4-623965723818",
   "metadata": {},
   "source": [
    "<b><u>[Data Load & Multiprocessing]</u></b>\n",
    "- S3에 있는 데이터를 Partioning 되어 있는 List내에 For Loop를 활용하여 불러옴\n",
    "- 분석 Data Quality를 향상시키기 위해 Row Missing Percentage가 (100 - 65)% 인 것은 모두 날림 (65는 Hyperparameter)\n",
    "- Try & Except을 활용하여 기존 포맷을 벗어나는 file을 무시하고 불러올 수 있도록 함\n",
    "- tqdm을 활용하여 진행사항 모니터링 - Multiprocessing 진행 시 사용 불가능"
   ]
  },
  {
   "cell_type": "code",
   "execution_count": 10,
   "id": "c94521ac-9c45-4970-9c79-30208ab2bc8d",
   "metadata": {},
   "outputs": [],
   "source": [
    "%%time\n",
    "def file_loader(file_list):\n",
    "    # Data Load\n",
    "    data = dt.Frame()\n",
    "    for i, file in enumerate(file_list):\n",
    "        \n",
    "        try:\n",
    "            # Get data From S3\n",
    "            gonie = client.get_object(Bucket=bucket, Key=file)['Body'].read().decode('utf-8')\n",
    "\n",
    "            # Read File\n",
    "            tmp = dt.fread(StringIO(gonie))\n",
    "\n",
    "            # Qulity Up of Rows\n",
    "            count = dt.rowcount(tmp).to_numpy() / tmp.shape[1]\n",
    "\n",
    "            # Cutting\n",
    "            idx_rows = np.where(count >= 0.65)[0]\n",
    "            tmp = tmp[idx_rows, :]\n",
    "\n",
    "            # Rbind\n",
    "            data.rbind(tmp)\n",
    "            gc.collect()\n",
    "        except:\n",
    "            print(\"{} Error\".format(file))\n",
    "            \n",
    "    # Format Convert datatable to pandas\n",
    "    data = data.to_pandas()\n",
    "    return data\n",
    "\n",
    "with mp.Pool() as p:\n",
    "    data = pd.concat(p.map(file_loader, file_list))\n",
    "    p.close()\n",
    "    p.join()\n",
    "    \n",
    "# Reset Index\n",
    "data.reset_index(inplace=True, drop=True)\n",
    "print(\"Data shape : {}\".format(data.shape))"
   ]
  },
  {
   "cell_type": "markdown",
   "id": "dbd5b20b-43ec-4c33-87bb-1de4859af722",
   "metadata": {},
   "source": [
    "Data shape : (72756, 765)\n",
    "CPU times: user 2.26 s, sys: 1.84 s, total: 4.1 s\n",
    "Wall time: 2min 50s"
   ]
  },
  {
   "cell_type": "markdown",
   "id": "9678f5dd-53f9-478c-8075-a3e4d3db21c8",
   "metadata": {},
   "source": [
    "<b><u>[Data Saving]</u></b>\n",
    "- Data Size는 굉장히 크면 Data 저장 포맷은 pickle형식을 추천함\n",
    "- CSV or Excel 포맷은 Loading & Saving 시간이 너무 오래 걸림"
   ]
  },
  {
   "cell_type": "code",
   "execution_count": 11,
   "id": "b5227fe3-6cb5-4d01-9816-b057c351c00a",
   "metadata": {},
   "outputs": [],
   "source": [
    "# Data Saving info\n",
    "data_format = 'pickle' # 'pickle' or 'csv' or 'excel'\n",
    "save_path = 'C:/Users/user/Desktop/....'"
   ]
  },
  {
   "cell_type": "code",
   "execution_count": 12,
   "id": "0f908cd9-d0e9-473e-aaf3-44829d1ccd47",
   "metadata": {},
   "outputs": [],
   "source": [
    "if data_format == 'pickle':\n",
    "    with open(save_path + \"TOY_DATA.pickle\", 'wb') as f:\n",
    "        pickle.dump(data, f, pickle.HIGHEST_PROTOCOL)\n",
    "elif data_format == 'csv':\n",
    "    data.to_csv(save_path + \"TOY_DATA.csv\")\n",
    "elif data_forma == 'excel':\n",
    "    data.to_excel(save_path + \"TOY_DATA.xlsx\")"
   ]
  }
 ],
 "metadata": {
  "kernelspec": {
   "display_name": "Python 3 (ipykernel)",
   "language": "python",
   "name": "python3"
  },
  "language_info": {
   "codemirror_mode": {
    "name": "ipython",
    "version": 3
   },
   "file_extension": ".py",
   "mimetype": "text/x-python",
   "name": "python",
   "nbconvert_exporter": "python",
   "pygments_lexer": "ipython3",
   "version": "3.7.11"
  }
 },
 "nbformat": 4,
 "nbformat_minor": 5
}
