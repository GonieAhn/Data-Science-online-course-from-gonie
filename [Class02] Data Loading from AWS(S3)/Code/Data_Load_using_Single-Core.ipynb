{
 "cells": [
  {
   "cell_type": "markdown",
   "id": "74d62bdc-7535-452e-9846-b0ce95465777",
   "metadata": {
    "tags": []
   },
   "source": [
    "# AWS(S3) Data Loading & Saving Using Single Core Code Tutorial\n",
    "\n",
    "<b><u>[목적]</u></b>\n",
    "- S3에 축적되는 Data를 Python 환경에 불러옴\n",
    "    \n",
    "<b><u>[Process]</u></b>\n",
    "- Data Call From AWS(S3) Using Multiprocessing\n",
    "- Pickle Data Saving (Faster Than .csv or .xlsx)\n",
    "    \n",
    "<b><u>[주의]</u></b>\n",
    "- AWS(S3)에 너무 접근을 많이하게 되면 AWS에서 락을 걸기 때문에 불러오는 시간이 느려질 수 있음\n",
    "- 즉, 단시간에 데이터를 너무 많이 불러오게 되면 락 걸림\""
   ]
  },
  {
   "cell_type": "code",
   "execution_count": 1,
   "id": "e75999c6-3811-41ee-b3df-0a8ff8fcd98b",
   "metadata": {},
   "outputs": [],
   "source": [
    "import os\n",
    "import gc\n",
    "import sys\n",
    "import boto3\n",
    "import pickle\n",
    "import datatable as dt\n",
    "import numpy as np\n",
    "import pandas as pd\n",
    "\n",
    "import warnings\n",
    "warnings.filterwarnings(\"ignore\")\n",
    "\n",
    "from io import StringIO\n",
    "from tqdm.notebook import tqdm"
   ]
  },
  {
   "cell_type": "code",
   "execution_count": 2,
   "id": "0ab6dd84-897a-4c25-bde1-5a99d63dfb28",
   "metadata": {},
   "outputs": [],
   "source": [
    "# Analysis Date - Long Term : list(range(20200701, 20200732, 1))\n",
    "days = ['20210217']"
   ]
  },
  {
   "cell_type": "markdown",
   "id": "4e28dd70-e696-4561-8e50-02a787440a86",
   "metadata": {},
   "source": [
    "<b><u>[Connection S3]</u></b>\n",
    "- boto3 Package를 활용한 S3 연결\n",
    "- bucket, aws_access_key_id, aws_secret_access_key, region는 보안상 블록\n",
    "    - 개인 혹은 단체에서 사용하는 S3 Key를 아래 Cell에 입력하여 접근함"
   ]
  },
  {
   "cell_type": "code",
   "execution_count": 3,
   "id": "c748a864-525f-4b49-8195-dcf11f8e2920",
   "metadata": {},
   "outputs": [],
   "source": [
    "# AWS INFO\n",
    "bucket = 'XXXX'\n",
    "aws_access_key_id = 'XXXX'\n",
    "aws_secret_access_key = 'XXXX'\n",
    "region = 'XXXX'\n",
    "\n",
    "client = boto3.client('s3',aws_access_key_id=aws_access_key_id, aws_secret_access_key=aws_secret_access_key, region_name=region)\n",
    "s3 = boto3.resource('s3',aws_access_key_id=aws_access_key_id, aws_secret_access_key=aws_secret_access_key, region_name=region).Bucket(bucket)"
   ]
  },
  {
   "cell_type": "markdown",
   "id": "cc580647-65fd-4abe-aa57-400bfc69f8cd",
   "metadata": {},
   "source": [
    "<b><u>[File Path List Up]</u></b>\n",
    "- 선택한 날짜에 속하는 데이터 Path를 모두 List에 넣어줌"
   ]
  },
  {
   "cell_type": "code",
   "execution_count": 4,
   "id": "05a43ef3-b76e-41cf-9efc-760f5a814686",
   "metadata": {},
   "outputs": [],
   "source": [
    "%%time\n",
    "# Data File List up\n",
    "file_list = []\n",
    "for day in days:\n",
    "    day = str(day)\n",
    "    tmp_list = [x.key for x in s3.objects.filter(Prefix='.../year={}/month={}/day={}/'.format(day[:4], day[4:6], day[6:8]))]\n",
    "    file_list.extend(tmp_list)\n",
    "    \n",
    "print(\">>>> # of files : {}\".format(len(file_list)))"
   ]
  },
  {
   "cell_type": "markdown",
   "id": "89cb83e7-c3d7-45e5-8f1d-5cbccd05896c",
   "metadata": {},
   "source": [
    "CPU times: user 62 ms, sys: 26.1 ms, total: 88.1 ms\n",
    "Wall time: 816 ms"
   ]
  },
  {
   "cell_type": "markdown",
   "id": "9a52958a-3fa3-4674-abe3-69f6e927cfe6",
   "metadata": {},
   "source": [
    "<b><u>[Data Load & Multiprocessing]</u></b>\n",
    "- S3에 있는 데이터를 Partioning 되어 있는 List내에 For Loop를 활용하여 불러옴\n",
    "- 분석 Data Quality를 향상시키기 위해 Row Missing Percentage가 (100 - 65)% 인 것은 모두 날림 (65는 Hyperparameter)\n",
    "- Try & Except을 활용하여 기존 포맷을 벗어나는 file을 무시하고 불러올 수 있도록 함\n",
    "- tqdm을 활용하여 진행사항 모니터링 (Loading Bar 시각화)"
   ]
  },
  {
   "cell_type": "code",
   "execution_count": 5,
   "id": "e48eb742-9e19-49f6-913b-6cd6e4a80943",
   "metadata": {},
   "outputs": [],
   "source": [
    "%%time\n",
    "# Data Load\n",
    "data = []\n",
    "for i, file in enumerate(tqdm(file_list)):\n",
    "    \n",
    "    try:\n",
    "        # Get data From S3\n",
    "        gonie = client.get_object(Bucket=bucket, Key=file)['Body'].read().decode('utf-8')\n",
    "        \n",
    "        # Read File\n",
    "        tmp = pd.read_csv(StringIO(gonie))\n",
    "        \n",
    "        # Qulity Up of Rows\n",
    "        count = tmp.notnull().sum(axis=1) / tmp.shape[1]\n",
    "        \n",
    "        # Cutting\n",
    "        idx_rows = np.where(count >= 0.65)[0]\n",
    "        tmp = tmp.iloc[idx_rows, :]\n",
    "        \n",
    "        # Rbind\n",
    "        data.append(tmp)\n",
    "    except:\n",
    "        print(\"{} Error File\".format(file))"
   ]
  },
  {
   "cell_type": "code",
   "execution_count": 6,
   "id": "1829f0ba-d332-42e2-91f9-f7a78846411a",
   "metadata": {},
   "outputs": [],
   "source": [
    "# Data Concat\n",
    "data = pd.concat(data[:], axis=0)\n",
    "print(\"Data shape : {}\".format(data.shape))"
   ]
  },
  {
   "cell_type": "markdown",
   "id": "fc10eac9-6b5b-4600-a901-96d05407c5b7",
   "metadata": {},
   "source": [
    "CPU times: user 33.6 s, sys: 7.93 s, total: 41.6 s\n",
    "Wall time: 2min 17s"
   ]
  },
  {
   "cell_type": "markdown",
   "id": "914a40ae-f78e-42bd-b85e-988003fcf453",
   "metadata": {},
   "source": [
    "<b><u>[Data Saving]</u></b>\n",
    "- Data Size는 굉장히 크면 Data 저장 포맷은 pickle형식을 추천함\n",
    "- CSV or Excel 포맷은 Loading & Saving 시간이 너무 오래 걸림"
   ]
  },
  {
   "cell_type": "code",
   "execution_count": 7,
   "id": "22707b66-1653-4577-8a04-9b5a5c48551b",
   "metadata": {},
   "outputs": [],
   "source": [
    "# Data Saving info\n",
    "data_format = 'pickle' # 'pickle' or 'csv' or 'excel'\n",
    "save_path = 'C:/Users/user/Desktop/....'"
   ]
  },
  {
   "cell_type": "code",
   "execution_count": 8,
   "id": "6ed25840-b031-46ee-8356-12c156baac8d",
   "metadata": {},
   "outputs": [],
   "source": [
    "if data_format == 'pickle':\n",
    "    with open(save_path + \"TOY_DATA.pickle\", 'wb') as f:\n",
    "        pickle.dump(data, f, pickle.HIGHEST_PROTOCOL)\n",
    "elif data_format == 'csv':\n",
    "    data.to_csv(save_path + \"TOY_DATA.csv\")\n",
    "elif data_forma == 'excel':\n",
    "    data.to_excel(save_path + \"TOY_DATA.xlsx\")"
   ]
  }
 ],
 "metadata": {
  "kernelspec": {
   "display_name": "Python 3 (ipykernel)",
   "language": "python",
   "name": "python3"
  },
  "language_info": {
   "codemirror_mode": {
    "name": "ipython",
    "version": 3
   },
   "file_extension": ".py",
   "mimetype": "text/x-python",
   "name": "python",
   "nbconvert_exporter": "python",
   "pygments_lexer": "ipython3",
   "version": "3.7.11"
  }
 },
 "nbformat": 4,
 "nbformat_minor": 5
}
